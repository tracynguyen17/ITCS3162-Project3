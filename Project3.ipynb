{
 "cells": [
  {
   "cell_type": "markdown",
   "id": "da837282",
   "metadata": {},
   "source": [
    "### Import necessary libraries"
   ]
  },
  {
   "cell_type": "code",
   "execution_count": 1,
   "id": "ebf438d0",
   "metadata": {},
   "outputs": [],
   "source": [
    "import pandas as pd\n",
    "import numpy as np\n",
    "import matplotlib.pyplot as plt\n",
    "import seaborn as sns"
   ]
  },
  {
   "cell_type": "markdown",
   "id": "bcf86b79",
   "metadata": {},
   "source": [
    "### Import csv of data"
   ]
  },
  {
   "cell_type": "code",
   "execution_count": 2,
   "id": "fb9f4849",
   "metadata": {},
   "outputs": [],
   "source": [
    "train_df = pd.read_csv(\"train.csv\")"
   ]
  },
  {
   "cell_type": "markdown",
   "id": "162abfd2",
   "metadata": {},
   "source": [
    "# Data understanding"
   ]
  },
  {
   "cell_type": "code",
   "execution_count": 3,
   "id": "a0a14323",
   "metadata": {},
   "outputs": [
    {
     "data": {
      "text/plain": [
       "(1460, 81)"
      ]
     },
     "execution_count": 3,
     "metadata": {},
     "output_type": "execute_result"
    }
   ],
   "source": [
    "train_df.shape"
   ]
  },
  {
   "cell_type": "markdown",
   "id": "bfe0e822",
   "metadata": {},
   "source": [
    "81 features!"
   ]
  },
  {
   "cell_type": "code",
   "execution_count": 4,
   "id": "206e7137",
   "metadata": {},
   "outputs": [
    {
     "data": {
      "text/plain": [
       "object     43\n",
       "int64      35\n",
       "float64     3\n",
       "dtype: int64"
      ]
     },
     "execution_count": 4,
     "metadata": {},
     "output_type": "execute_result"
    }
   ],
   "source": [
    "train_df.dtypes.value_counts()"
   ]
  },
  {
   "cell_type": "markdown",
   "id": "2ec1b348",
   "metadata": {},
   "source": [
    "There are a good mix of int64, float64, and object data types."
   ]
  },
  {
   "cell_type": "code",
   "execution_count": 5,
   "id": "df2ef810",
   "metadata": {
    "scrolled": false
   },
   "outputs": [
    {
     "data": {
      "text/html": [
       "<div>\n",
       "<style scoped>\n",
       "    .dataframe tbody tr th:only-of-type {\n",
       "        vertical-align: middle;\n",
       "    }\n",
       "\n",
       "    .dataframe tbody tr th {\n",
       "        vertical-align: top;\n",
       "    }\n",
       "\n",
       "    .dataframe thead th {\n",
       "        text-align: right;\n",
       "    }\n",
       "</style>\n",
       "<table border=\"1\" class=\"dataframe\">\n",
       "  <thead>\n",
       "    <tr style=\"text-align: right;\">\n",
       "      <th></th>\n",
       "      <th>Id</th>\n",
       "      <th>MSSubClass</th>\n",
       "      <th>MSZoning</th>\n",
       "      <th>LotFrontage</th>\n",
       "      <th>LotArea</th>\n",
       "      <th>Street</th>\n",
       "      <th>Alley</th>\n",
       "      <th>LotShape</th>\n",
       "      <th>LandContour</th>\n",
       "      <th>Utilities</th>\n",
       "      <th>...</th>\n",
       "      <th>PoolArea</th>\n",
       "      <th>PoolQC</th>\n",
       "      <th>Fence</th>\n",
       "      <th>MiscFeature</th>\n",
       "      <th>MiscVal</th>\n",
       "      <th>MoSold</th>\n",
       "      <th>YrSold</th>\n",
       "      <th>SaleType</th>\n",
       "      <th>SaleCondition</th>\n",
       "      <th>SalePrice</th>\n",
       "    </tr>\n",
       "  </thead>\n",
       "  <tbody>\n",
       "    <tr>\n",
       "      <th>0</th>\n",
       "      <td>1</td>\n",
       "      <td>60</td>\n",
       "      <td>RL</td>\n",
       "      <td>65.0</td>\n",
       "      <td>8450</td>\n",
       "      <td>Pave</td>\n",
       "      <td>NaN</td>\n",
       "      <td>Reg</td>\n",
       "      <td>Lvl</td>\n",
       "      <td>AllPub</td>\n",
       "      <td>...</td>\n",
       "      <td>0</td>\n",
       "      <td>NaN</td>\n",
       "      <td>NaN</td>\n",
       "      <td>NaN</td>\n",
       "      <td>0</td>\n",
       "      <td>2</td>\n",
       "      <td>2008</td>\n",
       "      <td>WD</td>\n",
       "      <td>Normal</td>\n",
       "      <td>208500</td>\n",
       "    </tr>\n",
       "    <tr>\n",
       "      <th>1</th>\n",
       "      <td>2</td>\n",
       "      <td>20</td>\n",
       "      <td>RL</td>\n",
       "      <td>80.0</td>\n",
       "      <td>9600</td>\n",
       "      <td>Pave</td>\n",
       "      <td>NaN</td>\n",
       "      <td>Reg</td>\n",
       "      <td>Lvl</td>\n",
       "      <td>AllPub</td>\n",
       "      <td>...</td>\n",
       "      <td>0</td>\n",
       "      <td>NaN</td>\n",
       "      <td>NaN</td>\n",
       "      <td>NaN</td>\n",
       "      <td>0</td>\n",
       "      <td>5</td>\n",
       "      <td>2007</td>\n",
       "      <td>WD</td>\n",
       "      <td>Normal</td>\n",
       "      <td>181500</td>\n",
       "    </tr>\n",
       "    <tr>\n",
       "      <th>2</th>\n",
       "      <td>3</td>\n",
       "      <td>60</td>\n",
       "      <td>RL</td>\n",
       "      <td>68.0</td>\n",
       "      <td>11250</td>\n",
       "      <td>Pave</td>\n",
       "      <td>NaN</td>\n",
       "      <td>IR1</td>\n",
       "      <td>Lvl</td>\n",
       "      <td>AllPub</td>\n",
       "      <td>...</td>\n",
       "      <td>0</td>\n",
       "      <td>NaN</td>\n",
       "      <td>NaN</td>\n",
       "      <td>NaN</td>\n",
       "      <td>0</td>\n",
       "      <td>9</td>\n",
       "      <td>2008</td>\n",
       "      <td>WD</td>\n",
       "      <td>Normal</td>\n",
       "      <td>223500</td>\n",
       "    </tr>\n",
       "    <tr>\n",
       "      <th>3</th>\n",
       "      <td>4</td>\n",
       "      <td>70</td>\n",
       "      <td>RL</td>\n",
       "      <td>60.0</td>\n",
       "      <td>9550</td>\n",
       "      <td>Pave</td>\n",
       "      <td>NaN</td>\n",
       "      <td>IR1</td>\n",
       "      <td>Lvl</td>\n",
       "      <td>AllPub</td>\n",
       "      <td>...</td>\n",
       "      <td>0</td>\n",
       "      <td>NaN</td>\n",
       "      <td>NaN</td>\n",
       "      <td>NaN</td>\n",
       "      <td>0</td>\n",
       "      <td>2</td>\n",
       "      <td>2006</td>\n",
       "      <td>WD</td>\n",
       "      <td>Abnorml</td>\n",
       "      <td>140000</td>\n",
       "    </tr>\n",
       "    <tr>\n",
       "      <th>4</th>\n",
       "      <td>5</td>\n",
       "      <td>60</td>\n",
       "      <td>RL</td>\n",
       "      <td>84.0</td>\n",
       "      <td>14260</td>\n",
       "      <td>Pave</td>\n",
       "      <td>NaN</td>\n",
       "      <td>IR1</td>\n",
       "      <td>Lvl</td>\n",
       "      <td>AllPub</td>\n",
       "      <td>...</td>\n",
       "      <td>0</td>\n",
       "      <td>NaN</td>\n",
       "      <td>NaN</td>\n",
       "      <td>NaN</td>\n",
       "      <td>0</td>\n",
       "      <td>12</td>\n",
       "      <td>2008</td>\n",
       "      <td>WD</td>\n",
       "      <td>Normal</td>\n",
       "      <td>250000</td>\n",
       "    </tr>\n",
       "    <tr>\n",
       "      <th>...</th>\n",
       "      <td>...</td>\n",
       "      <td>...</td>\n",
       "      <td>...</td>\n",
       "      <td>...</td>\n",
       "      <td>...</td>\n",
       "      <td>...</td>\n",
       "      <td>...</td>\n",
       "      <td>...</td>\n",
       "      <td>...</td>\n",
       "      <td>...</td>\n",
       "      <td>...</td>\n",
       "      <td>...</td>\n",
       "      <td>...</td>\n",
       "      <td>...</td>\n",
       "      <td>...</td>\n",
       "      <td>...</td>\n",
       "      <td>...</td>\n",
       "      <td>...</td>\n",
       "      <td>...</td>\n",
       "      <td>...</td>\n",
       "      <td>...</td>\n",
       "    </tr>\n",
       "    <tr>\n",
       "      <th>1455</th>\n",
       "      <td>1456</td>\n",
       "      <td>60</td>\n",
       "      <td>RL</td>\n",
       "      <td>62.0</td>\n",
       "      <td>7917</td>\n",
       "      <td>Pave</td>\n",
       "      <td>NaN</td>\n",
       "      <td>Reg</td>\n",
       "      <td>Lvl</td>\n",
       "      <td>AllPub</td>\n",
       "      <td>...</td>\n",
       "      <td>0</td>\n",
       "      <td>NaN</td>\n",
       "      <td>NaN</td>\n",
       "      <td>NaN</td>\n",
       "      <td>0</td>\n",
       "      <td>8</td>\n",
       "      <td>2007</td>\n",
       "      <td>WD</td>\n",
       "      <td>Normal</td>\n",
       "      <td>175000</td>\n",
       "    </tr>\n",
       "    <tr>\n",
       "      <th>1456</th>\n",
       "      <td>1457</td>\n",
       "      <td>20</td>\n",
       "      <td>RL</td>\n",
       "      <td>85.0</td>\n",
       "      <td>13175</td>\n",
       "      <td>Pave</td>\n",
       "      <td>NaN</td>\n",
       "      <td>Reg</td>\n",
       "      <td>Lvl</td>\n",
       "      <td>AllPub</td>\n",
       "      <td>...</td>\n",
       "      <td>0</td>\n",
       "      <td>NaN</td>\n",
       "      <td>MnPrv</td>\n",
       "      <td>NaN</td>\n",
       "      <td>0</td>\n",
       "      <td>2</td>\n",
       "      <td>2010</td>\n",
       "      <td>WD</td>\n",
       "      <td>Normal</td>\n",
       "      <td>210000</td>\n",
       "    </tr>\n",
       "    <tr>\n",
       "      <th>1457</th>\n",
       "      <td>1458</td>\n",
       "      <td>70</td>\n",
       "      <td>RL</td>\n",
       "      <td>66.0</td>\n",
       "      <td>9042</td>\n",
       "      <td>Pave</td>\n",
       "      <td>NaN</td>\n",
       "      <td>Reg</td>\n",
       "      <td>Lvl</td>\n",
       "      <td>AllPub</td>\n",
       "      <td>...</td>\n",
       "      <td>0</td>\n",
       "      <td>NaN</td>\n",
       "      <td>GdPrv</td>\n",
       "      <td>Shed</td>\n",
       "      <td>2500</td>\n",
       "      <td>5</td>\n",
       "      <td>2010</td>\n",
       "      <td>WD</td>\n",
       "      <td>Normal</td>\n",
       "      <td>266500</td>\n",
       "    </tr>\n",
       "    <tr>\n",
       "      <th>1458</th>\n",
       "      <td>1459</td>\n",
       "      <td>20</td>\n",
       "      <td>RL</td>\n",
       "      <td>68.0</td>\n",
       "      <td>9717</td>\n",
       "      <td>Pave</td>\n",
       "      <td>NaN</td>\n",
       "      <td>Reg</td>\n",
       "      <td>Lvl</td>\n",
       "      <td>AllPub</td>\n",
       "      <td>...</td>\n",
       "      <td>0</td>\n",
       "      <td>NaN</td>\n",
       "      <td>NaN</td>\n",
       "      <td>NaN</td>\n",
       "      <td>0</td>\n",
       "      <td>4</td>\n",
       "      <td>2010</td>\n",
       "      <td>WD</td>\n",
       "      <td>Normal</td>\n",
       "      <td>142125</td>\n",
       "    </tr>\n",
       "    <tr>\n",
       "      <th>1459</th>\n",
       "      <td>1460</td>\n",
       "      <td>20</td>\n",
       "      <td>RL</td>\n",
       "      <td>75.0</td>\n",
       "      <td>9937</td>\n",
       "      <td>Pave</td>\n",
       "      <td>NaN</td>\n",
       "      <td>Reg</td>\n",
       "      <td>Lvl</td>\n",
       "      <td>AllPub</td>\n",
       "      <td>...</td>\n",
       "      <td>0</td>\n",
       "      <td>NaN</td>\n",
       "      <td>NaN</td>\n",
       "      <td>NaN</td>\n",
       "      <td>0</td>\n",
       "      <td>6</td>\n",
       "      <td>2008</td>\n",
       "      <td>WD</td>\n",
       "      <td>Normal</td>\n",
       "      <td>147500</td>\n",
       "    </tr>\n",
       "  </tbody>\n",
       "</table>\n",
       "<p>1460 rows × 81 columns</p>\n",
       "</div>"
      ],
      "text/plain": [
       "        Id  MSSubClass MSZoning  LotFrontage  LotArea Street Alley LotShape  \\\n",
       "0        1          60       RL         65.0     8450   Pave   NaN      Reg   \n",
       "1        2          20       RL         80.0     9600   Pave   NaN      Reg   \n",
       "2        3          60       RL         68.0    11250   Pave   NaN      IR1   \n",
       "3        4          70       RL         60.0     9550   Pave   NaN      IR1   \n",
       "4        5          60       RL         84.0    14260   Pave   NaN      IR1   \n",
       "...    ...         ...      ...          ...      ...    ...   ...      ...   \n",
       "1455  1456          60       RL         62.0     7917   Pave   NaN      Reg   \n",
       "1456  1457          20       RL         85.0    13175   Pave   NaN      Reg   \n",
       "1457  1458          70       RL         66.0     9042   Pave   NaN      Reg   \n",
       "1458  1459          20       RL         68.0     9717   Pave   NaN      Reg   \n",
       "1459  1460          20       RL         75.0     9937   Pave   NaN      Reg   \n",
       "\n",
       "     LandContour Utilities  ... PoolArea PoolQC  Fence MiscFeature MiscVal  \\\n",
       "0            Lvl    AllPub  ...        0    NaN    NaN         NaN       0   \n",
       "1            Lvl    AllPub  ...        0    NaN    NaN         NaN       0   \n",
       "2            Lvl    AllPub  ...        0    NaN    NaN         NaN       0   \n",
       "3            Lvl    AllPub  ...        0    NaN    NaN         NaN       0   \n",
       "4            Lvl    AllPub  ...        0    NaN    NaN         NaN       0   \n",
       "...          ...       ...  ...      ...    ...    ...         ...     ...   \n",
       "1455         Lvl    AllPub  ...        0    NaN    NaN         NaN       0   \n",
       "1456         Lvl    AllPub  ...        0    NaN  MnPrv         NaN       0   \n",
       "1457         Lvl    AllPub  ...        0    NaN  GdPrv        Shed    2500   \n",
       "1458         Lvl    AllPub  ...        0    NaN    NaN         NaN       0   \n",
       "1459         Lvl    AllPub  ...        0    NaN    NaN         NaN       0   \n",
       "\n",
       "     MoSold YrSold  SaleType  SaleCondition  SalePrice  \n",
       "0         2   2008        WD         Normal     208500  \n",
       "1         5   2007        WD         Normal     181500  \n",
       "2         9   2008        WD         Normal     223500  \n",
       "3         2   2006        WD        Abnorml     140000  \n",
       "4        12   2008        WD         Normal     250000  \n",
       "...     ...    ...       ...            ...        ...  \n",
       "1455      8   2007        WD         Normal     175000  \n",
       "1456      2   2010        WD         Normal     210000  \n",
       "1457      5   2010        WD         Normal     266500  \n",
       "1458      4   2010        WD         Normal     142125  \n",
       "1459      6   2008        WD         Normal     147500  \n",
       "\n",
       "[1460 rows x 81 columns]"
      ]
     },
     "execution_count": 5,
     "metadata": {},
     "output_type": "execute_result"
    }
   ],
   "source": [
    "# Preview the dataframe\n",
    "train_df"
   ]
  },
  {
   "cell_type": "code",
   "execution_count": 6,
   "id": "0bfb7991",
   "metadata": {},
   "outputs": [
    {
     "name": "stdout",
     "output_type": "stream",
     "text": [
      "<class 'pandas.core.frame.DataFrame'>\n",
      "RangeIndex: 1460 entries, 0 to 1459\n",
      "Data columns (total 81 columns):\n",
      " #   Column         Non-Null Count  Dtype  \n",
      "---  ------         --------------  -----  \n",
      " 0   Id             1460 non-null   int64  \n",
      " 1   MSSubClass     1460 non-null   int64  \n",
      " 2   MSZoning       1460 non-null   object \n",
      " 3   LotFrontage    1201 non-null   float64\n",
      " 4   LotArea        1460 non-null   int64  \n",
      " 5   Street         1460 non-null   object \n",
      " 6   Alley          91 non-null     object \n",
      " 7   LotShape       1460 non-null   object \n",
      " 8   LandContour    1460 non-null   object \n",
      " 9   Utilities      1460 non-null   object \n",
      " 10  LotConfig      1460 non-null   object \n",
      " 11  LandSlope      1460 non-null   object \n",
      " 12  Neighborhood   1460 non-null   object \n",
      " 13  Condition1     1460 non-null   object \n",
      " 14  Condition2     1460 non-null   object \n",
      " 15  BldgType       1460 non-null   object \n",
      " 16  HouseStyle     1460 non-null   object \n",
      " 17  OverallQual    1460 non-null   int64  \n",
      " 18  OverallCond    1460 non-null   int64  \n",
      " 19  YearBuilt      1460 non-null   int64  \n",
      " 20  YearRemodAdd   1460 non-null   int64  \n",
      " 21  RoofStyle      1460 non-null   object \n",
      " 22  RoofMatl       1460 non-null   object \n",
      " 23  Exterior1st    1460 non-null   object \n",
      " 24  Exterior2nd    1460 non-null   object \n",
      " 25  MasVnrType     1452 non-null   object \n",
      " 26  MasVnrArea     1452 non-null   float64\n",
      " 27  ExterQual      1460 non-null   object \n",
      " 28  ExterCond      1460 non-null   object \n",
      " 29  Foundation     1460 non-null   object \n",
      " 30  BsmtQual       1423 non-null   object \n",
      " 31  BsmtCond       1423 non-null   object \n",
      " 32  BsmtExposure   1422 non-null   object \n",
      " 33  BsmtFinType1   1423 non-null   object \n",
      " 34  BsmtFinSF1     1460 non-null   int64  \n",
      " 35  BsmtFinType2   1422 non-null   object \n",
      " 36  BsmtFinSF2     1460 non-null   int64  \n",
      " 37  BsmtUnfSF      1460 non-null   int64  \n",
      " 38  TotalBsmtSF    1460 non-null   int64  \n",
      " 39  Heating        1460 non-null   object \n",
      " 40  HeatingQC      1460 non-null   object \n",
      " 41  CentralAir     1460 non-null   object \n",
      " 42  Electrical     1459 non-null   object \n",
      " 43  1stFlrSF       1460 non-null   int64  \n",
      " 44  2ndFlrSF       1460 non-null   int64  \n",
      " 45  LowQualFinSF   1460 non-null   int64  \n",
      " 46  GrLivArea      1460 non-null   int64  \n",
      " 47  BsmtFullBath   1460 non-null   int64  \n",
      " 48  BsmtHalfBath   1460 non-null   int64  \n",
      " 49  FullBath       1460 non-null   int64  \n",
      " 50  HalfBath       1460 non-null   int64  \n",
      " 51  BedroomAbvGr   1460 non-null   int64  \n",
      " 52  KitchenAbvGr   1460 non-null   int64  \n",
      " 53  KitchenQual    1460 non-null   object \n",
      " 54  TotRmsAbvGrd   1460 non-null   int64  \n",
      " 55  Functional     1460 non-null   object \n",
      " 56  Fireplaces     1460 non-null   int64  \n",
      " 57  FireplaceQu    770 non-null    object \n",
      " 58  GarageType     1379 non-null   object \n",
      " 59  GarageYrBlt    1379 non-null   float64\n",
      " 60  GarageFinish   1379 non-null   object \n",
      " 61  GarageCars     1460 non-null   int64  \n",
      " 62  GarageArea     1460 non-null   int64  \n",
      " 63  GarageQual     1379 non-null   object \n",
      " 64  GarageCond     1379 non-null   object \n",
      " 65  PavedDrive     1460 non-null   object \n",
      " 66  WoodDeckSF     1460 non-null   int64  \n",
      " 67  OpenPorchSF    1460 non-null   int64  \n",
      " 68  EnclosedPorch  1460 non-null   int64  \n",
      " 69  3SsnPorch      1460 non-null   int64  \n",
      " 70  ScreenPorch    1460 non-null   int64  \n",
      " 71  PoolArea       1460 non-null   int64  \n",
      " 72  PoolQC         7 non-null      object \n",
      " 73  Fence          281 non-null    object \n",
      " 74  MiscFeature    54 non-null     object \n",
      " 75  MiscVal        1460 non-null   int64  \n",
      " 76  MoSold         1460 non-null   int64  \n",
      " 77  YrSold         1460 non-null   int64  \n",
      " 78  SaleType       1460 non-null   object \n",
      " 79  SaleCondition  1460 non-null   object \n",
      " 80  SalePrice      1460 non-null   int64  \n",
      "dtypes: float64(3), int64(35), object(43)\n",
      "memory usage: 924.0+ KB\n"
     ]
    }
   ],
   "source": [
    "train_df.info()"
   ]
  },
  {
   "cell_type": "code",
   "execution_count": 7,
   "id": "1b06986d",
   "metadata": {},
   "outputs": [
    {
     "data": {
      "text/plain": [
       "FireplaceQu      True\n",
       "Fence            True\n",
       "BsmtFinType1     True\n",
       "GarageQual       True\n",
       "BsmtFinType2     True\n",
       "                ...  \n",
       "ExterQual       False\n",
       "Exterior2nd     False\n",
       "Exterior1st     False\n",
       "RoofMatl        False\n",
       "SalePrice       False\n",
       "Length: 81, dtype: bool"
      ]
     },
     "execution_count": 7,
     "metadata": {},
     "output_type": "execute_result"
    }
   ],
   "source": [
    "train_df.isna().any().sort_values(ascending=False)"
   ]
  },
  {
   "cell_type": "markdown",
   "id": "bc3e16ad",
   "metadata": {},
   "source": [
    "We can see that there are some missing values so we need to explore those."
   ]
  },
  {
   "cell_type": "markdown",
   "id": "72509a40",
   "metadata": {},
   "source": [
    "First, lets look at our target variable (house prices) to see if our data is normally distributed."
   ]
  },
  {
   "cell_type": "code",
   "execution_count": 8,
   "id": "c00ff900",
   "metadata": {},
   "outputs": [
    {
     "data": {
      "image/png": "[encoded data removed]",
      "text/plain": [
       "<Figure size 360x360 with 1 Axes>"
      ]
     },
     "metadata": {
      "needs_background": "light"
     },
     "output_type": "display_data"
    }
   ],
   "source": [
    "sns.displot(train_df['SalePrice'], kde=True);"
   ]
  },
  {
   "cell_type": "markdown",
   "id": "7b3d6f3d",
   "metadata": {},
   "source": [
    "Slightly skewed to the right so that may have to be addressed."
   ]
  },
  {
   "cell_type": "markdown",
   "id": "073af4eb",
   "metadata": {},
   "source": [
    "Now we will look into the the correlations of all of the variables"
   ]
  },
  {
   "cell_type": "code",
   "execution_count": 9,
   "id": "1036e3d2",
   "metadata": {},
   "outputs": [
    {
     "data": {
      "text/plain": [
       "<AxesSubplot:>"
      ]
     },
     "execution_count": 9,
     "metadata": {},
     "output_type": "execute_result"
    },
    {
     "data": {
      "image/png": "[encoded data removed]",
      "text/plain": [
       "<Figure size 720x720 with 2 Axes>"
      ]
     },
     "metadata": {
      "needs_background": "light"
     },
     "output_type": "display_data"
    }
   ],
   "source": [
    "# correlation matrix\n",
    "plt.figure(figsize = (10,10))\n",
    "sns.heatmap(train_df.corr(), linewidth=1)"
   ]
  },
  {
   "cell_type": "markdown",
   "id": "04c6e25b",
   "metadata": {},
   "source": [
    "There are multiple variables that are strongly correlated with SalePrice."
   ]
  },
  {
   "cell_type": "code",
   "execution_count": 10,
   "id": "78d1e40b",
   "metadata": {},
   "outputs": [
    {
     "data": {
      "image/png": "[encoded data removed]",
      "text/plain": [
       "<Figure size 576x1080 with 2 Axes>"
      ]
     },
     "metadata": {
      "needs_background": "light"
     },
     "output_type": "display_data"
    }
   ],
   "source": [
    "plt.figure(figsize=(8,15))\n",
    "sns.heatmap(train_df.corr()[['SalePrice']].sort_values(by=['SalePrice'],ascending=False), vmin=-1, annot=True);"
   ]
  },
  {
   "cell_type": "code",
   "execution_count": 11,
   "id": "177634d4",
   "metadata": {},
   "outputs": [
    {
     "name": "stdout",
     "output_type": "stream",
     "text": [
      "Index(['OverallQual', 'YearBuilt', 'YearRemodAdd', 'TotalBsmtSF', '1stFlrSF',\n",
      "       'GrLivArea', 'FullBath', 'TotRmsAbvGrd', 'GarageCars', 'GarageArea',\n",
      "       'SalePrice'],\n",
      "      dtype='object')\n"
     ]
    }
   ],
   "source": [
    "# features with highest correlation to SalePrice\n",
    "high_corr = train_df.corr()\n",
    "high_corr_feat = high_corr.index[abs(high_corr[\"SalePrice\"]) >= 0.50]\n",
    "print(high_corr_feat)"
   ]
  },
  {
   "cell_type": "code",
   "execution_count": 12,
   "id": "5293f37a",
   "metadata": {},
   "outputs": [
    {
     "data": {
      "image/png": "[encoded data removed]",
      "text/plain": [
       "<Figure size 1152x648 with 10 Axes>"
      ]
     },
     "metadata": {
      "needs_background": "light"
     },
     "output_type": "display_data"
    }
   ],
   "source": [
    "# plots of features with highly correlated data to SalePrice\n",
    "plt.figure(figsize=(16,9))\n",
    "for i in range(len(high_corr_feat)):\n",
    "    if i <= 9:\n",
    "        plt.subplot(3,4,i+1)\n",
    "        plt.subplots_adjust(hspace = 0.5, wspace = 0.5)\n",
    "        sns.regplot(data = train_df, x = high_corr_feat[i], y = 'SalePrice')"
   ]
  },
  {
   "cell_type": "markdown",
   "id": "0c567836",
   "metadata": {},
   "source": [
    "The top 10 highest values are \"OverallQual\",  \"GrLivArea\",  \"GarageCars\",  \"GarageArea\",  \"TotalBsmtSF\", \"1stFlrSF\",  \"FullBath\",  \"TotRmsAbvGrd\",  \"YearBuilt\", and  \"YearRemodAdd\""
   ]
  },
  {
   "cell_type": "markdown",
   "id": "db15654b",
   "metadata": {},
   "source": [
    "Now that we have gained insight into our dataset and some of its distributions, we can move forward into pre-processing."
   ]
  },
  {
   "cell_type": "markdown",
   "id": "57733dff",
   "metadata": {},
   "source": [
    "# Pre-processing"
   ]
  },
  {
   "cell_type": "code",
   "execution_count": 13,
   "id": "6b7568cb",
   "metadata": {},
   "outputs": [],
   "source": [
    "# drop Id column\n",
    "train_df.drop(columns = 'Id', axis = 1, inplace = True)"
   ]
  },
  {
   "cell_type": "markdown",
   "id": "a6bdb9f3",
   "metadata": {},
   "source": [
    "### Check for missing values "
   ]
  },
  {
   "cell_type": "code",
   "execution_count": 14,
   "id": "0567c35e",
   "metadata": {},
   "outputs": [
    {
     "data": {
      "text/plain": [
       "LotFrontage      259\n",
       "Alley           1369\n",
       "MasVnrType         8\n",
       "MasVnrArea         8\n",
       "BsmtQual          37\n",
       "BsmtCond          37\n",
       "BsmtExposure      38\n",
       "BsmtFinType1      37\n",
       "BsmtFinType2      38\n",
       "FireplaceQu      690\n",
       "GarageType        81\n",
       "GarageYrBlt       81\n",
       "GarageFinish      81\n",
       "GarageQual        81\n",
       "GarageCond        81\n",
       "PoolQC          1453\n",
       "Fence           1179\n",
       "MiscFeature     1406\n",
       "dtype: int64"
      ]
     },
     "execution_count": 14,
     "metadata": {},
     "output_type": "execute_result"
    }
   ],
   "source": [
    "# check for nulls\n",
    "nulls = train_df.isna().sum()[train_df.isna().sum() > 1]\n",
    "nulls"
   ]
  },
  {
   "cell_type": "markdown",
   "id": "51880f46",
   "metadata": {},
   "source": [
    "We will drop the features with missing values over 250."
   ]
  },
  {
   "cell_type": "code",
   "execution_count": 15,
   "id": "913e5710",
   "metadata": {},
   "outputs": [],
   "source": [
    "# drop features that contain at least 250 missing values\n",
    "train_df.drop(columns=train_df.isna().sum()[train_df.isna().sum() > 250].index, axis=1, inplace=True)"
   ]
  },
  {
   "cell_type": "code",
   "execution_count": 16,
   "id": "d37547a5",
   "metadata": {},
   "outputs": [
    {
     "data": {
      "text/plain": [
       "MasVnrType       8\n",
       "MasVnrArea       8\n",
       "BsmtQual        37\n",
       "BsmtCond        37\n",
       "BsmtExposure    38\n",
       "BsmtFinType1    37\n",
       "BsmtFinType2    38\n",
       "GarageType      81\n",
       "GarageYrBlt     81\n",
       "GarageFinish    81\n",
       "GarageQual      81\n",
       "GarageCond      81\n",
       "dtype: int64"
      ]
     },
     "execution_count": 16,
     "metadata": {},
     "output_type": "execute_result"
    }
   ],
   "source": [
    "nulls = train_df.isna().sum()[train_df.isna().sum() > 1]\n",
    "nulls"
   ]
  },
  {
   "cell_type": "code",
   "execution_count": 17,
   "id": "12ca6ef8",
   "metadata": {},
   "outputs": [
    {
     "data": {
      "text/plain": [
       "(1460, 74)"
      ]
     },
     "execution_count": 17,
     "metadata": {},
     "output_type": "execute_result"
    }
   ],
   "source": [
    "train_df.shape"
   ]
  },
  {
   "cell_type": "markdown",
   "id": "9911daea",
   "metadata": {},
   "source": [
    "We now have 74 features."
   ]
  },
  {
   "cell_type": "markdown",
   "id": "10bc0fec",
   "metadata": {},
   "source": [
    "### Numericals"
   ]
  },
  {
   "cell_type": "code",
   "execution_count": 18,
   "id": "2fd35a40",
   "metadata": {},
   "outputs": [
    {
     "data": {
      "text/html": [
       "<div>\n",
       "<style scoped>\n",
       "    .dataframe tbody tr th:only-of-type {\n",
       "        vertical-align: middle;\n",
       "    }\n",
       "\n",
       "    .dataframe tbody tr th {\n",
       "        vertical-align: top;\n",
       "    }\n",
       "\n",
       "    .dataframe thead th {\n",
       "        text-align: right;\n",
       "    }\n",
       "</style>\n",
       "<table border=\"1\" class=\"dataframe\">\n",
       "  <thead>\n",
       "    <tr style=\"text-align: right;\">\n",
       "      <th></th>\n",
       "      <th>MSSubClass</th>\n",
       "      <th>LotArea</th>\n",
       "      <th>OverallQual</th>\n",
       "      <th>OverallCond</th>\n",
       "      <th>YearBuilt</th>\n",
       "      <th>YearRemodAdd</th>\n",
       "      <th>MasVnrArea</th>\n",
       "      <th>BsmtFinSF1</th>\n",
       "      <th>BsmtFinSF2</th>\n",
       "      <th>BsmtUnfSF</th>\n",
       "      <th>...</th>\n",
       "      <th>WoodDeckSF</th>\n",
       "      <th>OpenPorchSF</th>\n",
       "      <th>EnclosedPorch</th>\n",
       "      <th>3SsnPorch</th>\n",
       "      <th>ScreenPorch</th>\n",
       "      <th>PoolArea</th>\n",
       "      <th>MiscVal</th>\n",
       "      <th>MoSold</th>\n",
       "      <th>YrSold</th>\n",
       "      <th>SalePrice</th>\n",
       "    </tr>\n",
       "  </thead>\n",
       "  <tbody>\n",
       "    <tr>\n",
       "      <th>0</th>\n",
       "      <td>60</td>\n",
       "      <td>8450</td>\n",
       "      <td>7</td>\n",
       "      <td>5</td>\n",
       "      <td>2003</td>\n",
       "      <td>2003</td>\n",
       "      <td>196.0</td>\n",
       "      <td>706</td>\n",
       "      <td>0</td>\n",
       "      <td>150</td>\n",
       "      <td>...</td>\n",
       "      <td>0</td>\n",
       "      <td>61</td>\n",
       "      <td>0</td>\n",
       "      <td>0</td>\n",
       "      <td>0</td>\n",
       "      <td>0</td>\n",
       "      <td>0</td>\n",
       "      <td>2</td>\n",
       "      <td>2008</td>\n",
       "      <td>208500</td>\n",
       "    </tr>\n",
       "    <tr>\n",
       "      <th>1</th>\n",
       "      <td>20</td>\n",
       "      <td>9600</td>\n",
       "      <td>6</td>\n",
       "      <td>8</td>\n",
       "      <td>1976</td>\n",
       "      <td>1976</td>\n",
       "      <td>0.0</td>\n",
       "      <td>978</td>\n",
       "      <td>0</td>\n",
       "      <td>284</td>\n",
       "      <td>...</td>\n",
       "      <td>298</td>\n",
       "      <td>0</td>\n",
       "      <td>0</td>\n",
       "      <td>0</td>\n",
       "      <td>0</td>\n",
       "      <td>0</td>\n",
       "      <td>0</td>\n",
       "      <td>5</td>\n",
       "      <td>2007</td>\n",
       "      <td>181500</td>\n",
       "    </tr>\n",
       "    <tr>\n",
       "      <th>2</th>\n",
       "      <td>60</td>\n",
       "      <td>11250</td>\n",
       "      <td>7</td>\n",
       "      <td>5</td>\n",
       "      <td>2001</td>\n",
       "      <td>2002</td>\n",
       "      <td>162.0</td>\n",
       "      <td>486</td>\n",
       "      <td>0</td>\n",
       "      <td>434</td>\n",
       "      <td>...</td>\n",
       "      <td>0</td>\n",
       "      <td>42</td>\n",
       "      <td>0</td>\n",
       "      <td>0</td>\n",
       "      <td>0</td>\n",
       "      <td>0</td>\n",
       "      <td>0</td>\n",
       "      <td>9</td>\n",
       "      <td>2008</td>\n",
       "      <td>223500</td>\n",
       "    </tr>\n",
       "    <tr>\n",
       "      <th>3</th>\n",
       "      <td>70</td>\n",
       "      <td>9550</td>\n",
       "      <td>7</td>\n",
       "      <td>5</td>\n",
       "      <td>1915</td>\n",
       "      <td>1970</td>\n",
       "      <td>0.0</td>\n",
       "      <td>216</td>\n",
       "      <td>0</td>\n",
       "      <td>540</td>\n",
       "      <td>...</td>\n",
       "      <td>0</td>\n",
       "      <td>35</td>\n",
       "      <td>272</td>\n",
       "      <td>0</td>\n",
       "      <td>0</td>\n",
       "      <td>0</td>\n",
       "      <td>0</td>\n",
       "      <td>2</td>\n",
       "      <td>2006</td>\n",
       "      <td>140000</td>\n",
       "    </tr>\n",
       "    <tr>\n",
       "      <th>4</th>\n",
       "      <td>60</td>\n",
       "      <td>14260</td>\n",
       "      <td>8</td>\n",
       "      <td>5</td>\n",
       "      <td>2000</td>\n",
       "      <td>2000</td>\n",
       "      <td>350.0</td>\n",
       "      <td>655</td>\n",
       "      <td>0</td>\n",
       "      <td>490</td>\n",
       "      <td>...</td>\n",
       "      <td>192</td>\n",
       "      <td>84</td>\n",
       "      <td>0</td>\n",
       "      <td>0</td>\n",
       "      <td>0</td>\n",
       "      <td>0</td>\n",
       "      <td>0</td>\n",
       "      <td>12</td>\n",
       "      <td>2008</td>\n",
       "      <td>250000</td>\n",
       "    </tr>\n",
       "    <tr>\n",
       "      <th>...</th>\n",
       "      <td>...</td>\n",
       "      <td>...</td>\n",
       "      <td>...</td>\n",
       "      <td>...</td>\n",
       "      <td>...</td>\n",
       "      <td>...</td>\n",
       "      <td>...</td>\n",
       "      <td>...</td>\n",
       "      <td>...</td>\n",
       "      <td>...</td>\n",
       "      <td>...</td>\n",
       "      <td>...</td>\n",
       "      <td>...</td>\n",
       "      <td>...</td>\n",
       "      <td>...</td>\n",
       "      <td>...</td>\n",
       "      <td>...</td>\n",
       "      <td>...</td>\n",
       "      <td>...</td>\n",
       "      <td>...</td>\n",
       "      <td>...</td>\n",
       "    </tr>\n",
       "    <tr>\n",
       "      <th>1455</th>\n",
       "      <td>60</td>\n",
       "      <td>7917</td>\n",
       "      <td>6</td>\n",
       "      <td>5</td>\n",
       "      <td>1999</td>\n",
       "      <td>2000</td>\n",
       "      <td>0.0</td>\n",
       "      <td>0</td>\n",
       "      <td>0</td>\n",
       "      <td>953</td>\n",
       "      <td>...</td>\n",
       "      <td>0</td>\n",
       "      <td>40</td>\n",
       "      <td>0</td>\n",
       "      <td>0</td>\n",
       "      <td>0</td>\n",
       "      <td>0</td>\n",
       "      <td>0</td>\n",
       "      <td>8</td>\n",
       "      <td>2007</td>\n",
       "      <td>175000</td>\n",
       "    </tr>\n",
       "    <tr>\n",
       "      <th>1456</th>\n",
       "      <td>20</td>\n",
       "      <td>13175</td>\n",
       "      <td>6</td>\n",
       "      <td>6</td>\n",
       "      <td>1978</td>\n",
       "      <td>1988</td>\n",
       "      <td>119.0</td>\n",
       "      <td>790</td>\n",
       "      <td>163</td>\n",
       "      <td>589</td>\n",
       "      <td>...</td>\n",
       "      <td>349</td>\n",
       "      <td>0</td>\n",
       "      <td>0</td>\n",
       "      <td>0</td>\n",
       "      <td>0</td>\n",
       "      <td>0</td>\n",
       "      <td>0</td>\n",
       "      <td>2</td>\n",
       "      <td>2010</td>\n",
       "      <td>210000</td>\n",
       "    </tr>\n",
       "    <tr>\n",
       "      <th>1457</th>\n",
       "      <td>70</td>\n",
       "      <td>9042</td>\n",
       "      <td>7</td>\n",
       "      <td>9</td>\n",
       "      <td>1941</td>\n",
       "      <td>2006</td>\n",
       "      <td>0.0</td>\n",
       "      <td>275</td>\n",
       "      <td>0</td>\n",
       "      <td>877</td>\n",
       "      <td>...</td>\n",
       "      <td>0</td>\n",
       "      <td>60</td>\n",
       "      <td>0</td>\n",
       "      <td>0</td>\n",
       "      <td>0</td>\n",
       "      <td>0</td>\n",
       "      <td>2500</td>\n",
       "      <td>5</td>\n",
       "      <td>2010</td>\n",
       "      <td>266500</td>\n",
       "    </tr>\n",
       "    <tr>\n",
       "      <th>1458</th>\n",
       "      <td>20</td>\n",
       "      <td>9717</td>\n",
       "      <td>5</td>\n",
       "      <td>6</td>\n",
       "      <td>1950</td>\n",
       "      <td>1996</td>\n",
       "      <td>0.0</td>\n",
       "      <td>49</td>\n",
       "      <td>1029</td>\n",
       "      <td>0</td>\n",
       "      <td>...</td>\n",
       "      <td>366</td>\n",
       "      <td>0</td>\n",
       "      <td>112</td>\n",
       "      <td>0</td>\n",
       "      <td>0</td>\n",
       "      <td>0</td>\n",
       "      <td>0</td>\n",
       "      <td>4</td>\n",
       "      <td>2010</td>\n",
       "      <td>142125</td>\n",
       "    </tr>\n",
       "    <tr>\n",
       "      <th>1459</th>\n",
       "      <td>20</td>\n",
       "      <td>9937</td>\n",
       "      <td>5</td>\n",
       "      <td>6</td>\n",
       "      <td>1965</td>\n",
       "      <td>1965</td>\n",
       "      <td>0.0</td>\n",
       "      <td>830</td>\n",
       "      <td>290</td>\n",
       "      <td>136</td>\n",
       "      <td>...</td>\n",
       "      <td>736</td>\n",
       "      <td>68</td>\n",
       "      <td>0</td>\n",
       "      <td>0</td>\n",
       "      <td>0</td>\n",
       "      <td>0</td>\n",
       "      <td>0</td>\n",
       "      <td>6</td>\n",
       "      <td>2008</td>\n",
       "      <td>147500</td>\n",
       "    </tr>\n",
       "  </tbody>\n",
       "</table>\n",
       "<p>1460 rows × 36 columns</p>\n",
       "</div>"
      ],
      "text/plain": [
       "      MSSubClass  LotArea  OverallQual  OverallCond  YearBuilt  YearRemodAdd  \\\n",
       "0             60     8450            7            5       2003          2003   \n",
       "1             20     9600            6            8       1976          1976   \n",
       "2             60    11250            7            5       2001          2002   \n",
       "3             70     9550            7            5       1915          1970   \n",
       "4             60    14260            8            5       2000          2000   \n",
       "...          ...      ...          ...          ...        ...           ...   \n",
       "1455          60     7917            6            5       1999          2000   \n",
       "1456          20    13175            6            6       1978          1988   \n",
       "1457          70     9042            7            9       1941          2006   \n",
       "1458          20     9717            5            6       1950          1996   \n",
       "1459          20     9937            5            6       1965          1965   \n",
       "\n",
       "      MasVnrArea  BsmtFinSF1  BsmtFinSF2  BsmtUnfSF  ...  WoodDeckSF  \\\n",
       "0          196.0         706           0        150  ...           0   \n",
       "1            0.0         978           0        284  ...         298   \n",
       "2          162.0         486           0        434  ...           0   \n",
       "3            0.0         216           0        540  ...           0   \n",
       "4          350.0         655           0        490  ...         192   \n",
       "...          ...         ...         ...        ...  ...         ...   \n",
       "1455         0.0           0           0        953  ...           0   \n",
       "1456       119.0         790         163        589  ...         349   \n",
       "1457         0.0         275           0        877  ...           0   \n",
       "1458         0.0          49        1029          0  ...         366   \n",
       "1459         0.0         830         290        136  ...         736   \n",
       "\n",
       "      OpenPorchSF  EnclosedPorch  3SsnPorch  ScreenPorch  PoolArea  MiscVal  \\\n",
       "0              61              0          0            0         0        0   \n",
       "1               0              0          0            0         0        0   \n",
       "2              42              0          0            0         0        0   \n",
       "3              35            272          0            0         0        0   \n",
       "4              84              0          0            0         0        0   \n",
       "...           ...            ...        ...          ...       ...      ...   \n",
       "1455           40              0          0            0         0        0   \n",
       "1456            0              0          0            0         0        0   \n",
       "1457           60              0          0            0         0     2500   \n",
       "1458            0            112          0            0         0        0   \n",
       "1459           68              0          0            0         0        0   \n",
       "\n",
       "      MoSold  YrSold  SalePrice  \n",
       "0          2    2008     208500  \n",
       "1          5    2007     181500  \n",
       "2          9    2008     223500  \n",
       "3          2    2006     140000  \n",
       "4         12    2008     250000  \n",
       "...      ...     ...        ...  \n",
       "1455       8    2007     175000  \n",
       "1456       2    2010     210000  \n",
       "1457       5    2010     266500  \n",
       "1458       4    2010     142125  \n",
       "1459       6    2008     147500  \n",
       "\n",
       "[1460 rows x 36 columns]"
      ]
     },
     "execution_count": 18,
     "metadata": {},
     "output_type": "execute_result"
    }
   ],
   "source": [
    "numericals = train_df.select_dtypes(include=['int64','float64'])\n",
    "numericals"
   ]
  },
  {
   "cell_type": "code",
   "execution_count": 19,
   "id": "d05ad372",
   "metadata": {},
   "outputs": [
    {
     "data": {
      "text/plain": [
       "['MSSubClass',\n",
       " 'LotArea',\n",
       " 'OverallQual',\n",
       " 'OverallCond',\n",
       " 'YearBuilt',\n",
       " 'YearRemodAdd',\n",
       " 'MasVnrArea',\n",
       " 'BsmtFinSF1',\n",
       " 'BsmtFinSF2',\n",
       " 'BsmtUnfSF',\n",
       " 'TotalBsmtSF',\n",
       " '1stFlrSF',\n",
       " '2ndFlrSF',\n",
       " 'LowQualFinSF',\n",
       " 'GrLivArea',\n",
       " 'BsmtFullBath',\n",
       " 'BsmtHalfBath',\n",
       " 'FullBath',\n",
       " 'HalfBath',\n",
       " 'BedroomAbvGr',\n",
       " 'KitchenAbvGr',\n",
       " 'TotRmsAbvGrd',\n",
       " 'Fireplaces',\n",
       " 'GarageYrBlt',\n",
       " 'GarageCars',\n",
       " 'GarageArea',\n",
       " 'WoodDeckSF',\n",
       " 'OpenPorchSF',\n",
       " 'EnclosedPorch',\n",
       " '3SsnPorch',\n",
       " 'ScreenPorch',\n",
       " 'PoolArea',\n",
       " 'MiscVal',\n",
       " 'MoSold',\n",
       " 'YrSold',\n",
       " 'SalePrice']"
      ]
     },
     "execution_count": 19,
     "metadata": {},
     "output_type": "execute_result"
    }
   ],
   "source": [
    "list(numericals.columns)"
   ]
  },
  {
   "cell_type": "code",
   "execution_count": 20,
   "id": "93119dbd",
   "metadata": {},
   "outputs": [
    {
     "data": {
      "text/plain": [
       "36"
      ]
     },
     "execution_count": 20,
     "metadata": {},
     "output_type": "execute_result"
    }
   ],
   "source": [
    "len(numericals.columns)"
   ]
  },
  {
   "cell_type": "code",
   "execution_count": 21,
   "id": "d89fd24f",
   "metadata": {},
   "outputs": [
    {
     "data": {
      "text/plain": [
       "int64      34\n",
       "float64     2\n",
       "dtype: int64"
      ]
     },
     "execution_count": 21,
     "metadata": {},
     "output_type": "execute_result"
    }
   ],
   "source": [
    "numericals.dtypes.value_counts()"
   ]
  },
  {
   "cell_type": "code",
   "execution_count": 22,
   "id": "c56af1aa",
   "metadata": {},
   "outputs": [
    {
     "name": "stdout",
     "output_type": "stream",
     "text": [
      "<class 'pandas.core.frame.DataFrame'>\n",
      "RangeIndex: 1460 entries, 0 to 1459\n",
      "Data columns (total 36 columns):\n",
      " #   Column         Non-Null Count  Dtype  \n",
      "---  ------         --------------  -----  \n",
      " 0   MSSubClass     1460 non-null   int64  \n",
      " 1   LotArea        1460 non-null   int64  \n",
      " 2   OverallQual    1460 non-null   int64  \n",
      " 3   OverallCond    1460 non-null   int64  \n",
      " 4   YearBuilt      1460 non-null   int64  \n",
      " 5   YearRemodAdd   1460 non-null   int64  \n",
      " 6   MasVnrArea     1452 non-null   float64\n",
      " 7   BsmtFinSF1     1460 non-null   int64  \n",
      " 8   BsmtFinSF2     1460 non-null   int64  \n",
      " 9   BsmtUnfSF      1460 non-null   int64  \n",
      " 10  TotalBsmtSF    1460 non-null   int64  \n",
      " 11  1stFlrSF       1460 non-null   int64  \n",
      " 12  2ndFlrSF       1460 non-null   int64  \n",
      " 13  LowQualFinSF   1460 non-null   int64  \n",
      " 14  GrLivArea      1460 non-null   int64  \n",
      " 15  BsmtFullBath   1460 non-null   int64  \n",
      " 16  BsmtHalfBath   1460 non-null   int64  \n",
      " 17  FullBath       1460 non-null   int64  \n",
      " 18  HalfBath       1460 non-null   int64  \n",
      " 19  BedroomAbvGr   1460 non-null   int64  \n",
      " 20  KitchenAbvGr   1460 non-null   int64  \n",
      " 21  TotRmsAbvGrd   1460 non-null   int64  \n",
      " 22  Fireplaces     1460 non-null   int64  \n",
      " 23  GarageYrBlt    1379 non-null   float64\n",
      " 24  GarageCars     1460 non-null   int64  \n",
      " 25  GarageArea     1460 non-null   int64  \n",
      " 26  WoodDeckSF     1460 non-null   int64  \n",
      " 27  OpenPorchSF    1460 non-null   int64  \n",
      " 28  EnclosedPorch  1460 non-null   int64  \n",
      " 29  3SsnPorch      1460 non-null   int64  \n",
      " 30  ScreenPorch    1460 non-null   int64  \n",
      " 31  PoolArea       1460 non-null   int64  \n",
      " 32  MiscVal        1460 non-null   int64  \n",
      " 33  MoSold         1460 non-null   int64  \n",
      " 34  YrSold         1460 non-null   int64  \n",
      " 35  SalePrice      1460 non-null   int64  \n",
      "dtypes: float64(2), int64(34)\n",
      "memory usage: 410.8 KB\n"
     ]
    }
   ],
   "source": [
    "numericals.info()"
   ]
  },
  {
   "cell_type": "code",
   "execution_count": 23,
   "id": "c26b6aa3",
   "metadata": {},
   "outputs": [
    {
     "data": {
      "text/plain": [
       "MasVnrArea      8\n",
       "GarageYrBlt    81\n",
       "dtype: int64"
      ]
     },
     "execution_count": 23,
     "metadata": {},
     "output_type": "execute_result"
    }
   ],
   "source": [
    "numericals.isna().sum()[numericals.isna().sum() > 1]"
   ]
  },
  {
   "cell_type": "code",
   "execution_count": 24,
   "id": "b110f542",
   "metadata": {},
   "outputs": [],
   "source": [
    "# fill missing numericals with 0\n",
    "numericals.fillna(value = 0, inplace = True)"
   ]
  },
  {
   "cell_type": "code",
   "execution_count": 25,
   "id": "f1cc6994",
   "metadata": {},
   "outputs": [
    {
     "data": {
      "text/plain": [
       "MSSubClass       False\n",
       "LotArea          False\n",
       "OverallQual      False\n",
       "OverallCond      False\n",
       "YearBuilt        False\n",
       "YearRemodAdd     False\n",
       "MasVnrArea       False\n",
       "BsmtFinSF1       False\n",
       "BsmtFinSF2       False\n",
       "BsmtUnfSF        False\n",
       "TotalBsmtSF      False\n",
       "1stFlrSF         False\n",
       "2ndFlrSF         False\n",
       "LowQualFinSF     False\n",
       "GrLivArea        False\n",
       "BsmtFullBath     False\n",
       "BsmtHalfBath     False\n",
       "FullBath         False\n",
       "HalfBath         False\n",
       "BedroomAbvGr     False\n",
       "KitchenAbvGr     False\n",
       "TotRmsAbvGrd     False\n",
       "Fireplaces       False\n",
       "GarageYrBlt      False\n",
       "GarageCars       False\n",
       "GarageArea       False\n",
       "WoodDeckSF       False\n",
       "OpenPorchSF      False\n",
       "EnclosedPorch    False\n",
       "3SsnPorch        False\n",
       "ScreenPorch      False\n",
       "PoolArea         False\n",
       "MiscVal          False\n",
       "MoSold           False\n",
       "YrSold           False\n",
       "SalePrice        False\n",
       "dtype: bool"
      ]
     },
     "execution_count": 25,
     "metadata": {},
     "output_type": "execute_result"
    }
   ],
   "source": [
    "numericals.isna().any()"
   ]
  },
  {
   "cell_type": "markdown",
   "id": "915432a9",
   "metadata": {},
   "source": [
    "### Categoricals"
   ]
  },
  {
   "cell_type": "code",
   "execution_count": 26,
   "id": "dba9b83c",
   "metadata": {
    "scrolled": false
   },
   "outputs": [
    {
     "data": {
      "text/html": [
       "<div>\n",
       "<style scoped>\n",
       "    .dataframe tbody tr th:only-of-type {\n",
       "        vertical-align: middle;\n",
       "    }\n",
       "\n",
       "    .dataframe tbody tr th {\n",
       "        vertical-align: top;\n",
       "    }\n",
       "\n",
       "    .dataframe thead th {\n",
       "        text-align: right;\n",
       "    }\n",
       "</style>\n",
       "<table border=\"1\" class=\"dataframe\">\n",
       "  <thead>\n",
       "    <tr style=\"text-align: right;\">\n",
       "      <th></th>\n",
       "      <th>MSZoning</th>\n",
       "      <th>Street</th>\n",
       "      <th>LotShape</th>\n",
       "      <th>LandContour</th>\n",
       "      <th>Utilities</th>\n",
       "      <th>LotConfig</th>\n",
       "      <th>LandSlope</th>\n",
       "      <th>Neighborhood</th>\n",
       "      <th>Condition1</th>\n",
       "      <th>Condition2</th>\n",
       "      <th>...</th>\n",
       "      <th>Electrical</th>\n",
       "      <th>KitchenQual</th>\n",
       "      <th>Functional</th>\n",
       "      <th>GarageType</th>\n",
       "      <th>GarageFinish</th>\n",
       "      <th>GarageQual</th>\n",
       "      <th>GarageCond</th>\n",
       "      <th>PavedDrive</th>\n",
       "      <th>SaleType</th>\n",
       "      <th>SaleCondition</th>\n",
       "    </tr>\n",
       "  </thead>\n",
       "  <tbody>\n",
       "    <tr>\n",
       "      <th>0</th>\n",
       "      <td>RL</td>\n",
       "      <td>Pave</td>\n",
       "      <td>Reg</td>\n",
       "      <td>Lvl</td>\n",
       "      <td>AllPub</td>\n",
       "      <td>Inside</td>\n",
       "      <td>Gtl</td>\n",
       "      <td>CollgCr</td>\n",
       "      <td>Norm</td>\n",
       "      <td>Norm</td>\n",
       "      <td>...</td>\n",
       "      <td>SBrkr</td>\n",
       "      <td>Gd</td>\n",
       "      <td>Typ</td>\n",
       "      <td>Attchd</td>\n",
       "      <td>RFn</td>\n",
       "      <td>TA</td>\n",
       "      <td>TA</td>\n",
       "      <td>Y</td>\n",
       "      <td>WD</td>\n",
       "      <td>Normal</td>\n",
       "    </tr>\n",
       "    <tr>\n",
       "      <th>1</th>\n",
       "      <td>RL</td>\n",
       "      <td>Pave</td>\n",
       "      <td>Reg</td>\n",
       "      <td>Lvl</td>\n",
       "      <td>AllPub</td>\n",
       "      <td>FR2</td>\n",
       "      <td>Gtl</td>\n",
       "      <td>Veenker</td>\n",
       "      <td>Feedr</td>\n",
       "      <td>Norm</td>\n",
       "      <td>...</td>\n",
       "      <td>SBrkr</td>\n",
       "      <td>TA</td>\n",
       "      <td>Typ</td>\n",
       "      <td>Attchd</td>\n",
       "      <td>RFn</td>\n",
       "      <td>TA</td>\n",
       "      <td>TA</td>\n",
       "      <td>Y</td>\n",
       "      <td>WD</td>\n",
       "      <td>Normal</td>\n",
       "    </tr>\n",
       "    <tr>\n",
       "      <th>2</th>\n",
       "      <td>RL</td>\n",
       "      <td>Pave</td>\n",
       "      <td>IR1</td>\n",
       "      <td>Lvl</td>\n",
       "      <td>AllPub</td>\n",
       "      <td>Inside</td>\n",
       "      <td>Gtl</td>\n",
       "      <td>CollgCr</td>\n",
       "      <td>Norm</td>\n",
       "      <td>Norm</td>\n",
       "      <td>...</td>\n",
       "      <td>SBrkr</td>\n",
       "      <td>Gd</td>\n",
       "      <td>Typ</td>\n",
       "      <td>Attchd</td>\n",
       "      <td>RFn</td>\n",
       "      <td>TA</td>\n",
       "      <td>TA</td>\n",
       "      <td>Y</td>\n",
       "      <td>WD</td>\n",
       "      <td>Normal</td>\n",
       "    </tr>\n",
       "    <tr>\n",
       "      <th>3</th>\n",
       "      <td>RL</td>\n",
       "      <td>Pave</td>\n",
       "      <td>IR1</td>\n",
       "      <td>Lvl</td>\n",
       "      <td>AllPub</td>\n",
       "      <td>Corner</td>\n",
       "      <td>Gtl</td>\n",
       "      <td>Crawfor</td>\n",
       "      <td>Norm</td>\n",
       "      <td>Norm</td>\n",
       "      <td>...</td>\n",
       "      <td>SBrkr</td>\n",
       "      <td>Gd</td>\n",
       "      <td>Typ</td>\n",
       "      <td>Detchd</td>\n",
       "      <td>Unf</td>\n",
       "      <td>TA</td>\n",
       "      <td>TA</td>\n",
       "      <td>Y</td>\n",
       "      <td>WD</td>\n",
       "      <td>Abnorml</td>\n",
       "    </tr>\n",
       "    <tr>\n",
       "      <th>4</th>\n",
       "      <td>RL</td>\n",
       "      <td>Pave</td>\n",
       "      <td>IR1</td>\n",
       "      <td>Lvl</td>\n",
       "      <td>AllPub</td>\n",
       "      <td>FR2</td>\n",
       "      <td>Gtl</td>\n",
       "      <td>NoRidge</td>\n",
       "      <td>Norm</td>\n",
       "      <td>Norm</td>\n",
       "      <td>...</td>\n",
       "      <td>SBrkr</td>\n",
       "      <td>Gd</td>\n",
       "      <td>Typ</td>\n",
       "      <td>Attchd</td>\n",
       "      <td>RFn</td>\n",
       "      <td>TA</td>\n",
       "      <td>TA</td>\n",
       "      <td>Y</td>\n",
       "      <td>WD</td>\n",
       "      <td>Normal</td>\n",
       "    </tr>\n",
       "    <tr>\n",
       "      <th>...</th>\n",
       "      <td>...</td>\n",
       "      <td>...</td>\n",
       "      <td>...</td>\n",
       "      <td>...</td>\n",
       "      <td>...</td>\n",
       "      <td>...</td>\n",
       "      <td>...</td>\n",
       "      <td>...</td>\n",
       "      <td>...</td>\n",
       "      <td>...</td>\n",
       "      <td>...</td>\n",
       "      <td>...</td>\n",
       "      <td>...</td>\n",
       "      <td>...</td>\n",
       "      <td>...</td>\n",
       "      <td>...</td>\n",
       "      <td>...</td>\n",
       "      <td>...</td>\n",
       "      <td>...</td>\n",
       "      <td>...</td>\n",
       "      <td>...</td>\n",
       "    </tr>\n",
       "    <tr>\n",
       "      <th>1455</th>\n",
       "      <td>RL</td>\n",
       "      <td>Pave</td>\n",
       "      <td>Reg</td>\n",
       "      <td>Lvl</td>\n",
       "      <td>AllPub</td>\n",
       "      <td>Inside</td>\n",
       "      <td>Gtl</td>\n",
       "      <td>Gilbert</td>\n",
       "      <td>Norm</td>\n",
       "      <td>Norm</td>\n",
       "      <td>...</td>\n",
       "      <td>SBrkr</td>\n",
       "      <td>TA</td>\n",
       "      <td>Typ</td>\n",
       "      <td>Attchd</td>\n",
       "      <td>RFn</td>\n",
       "      <td>TA</td>\n",
       "      <td>TA</td>\n",
       "      <td>Y</td>\n",
       "      <td>WD</td>\n",
       "      <td>Normal</td>\n",
       "    </tr>\n",
       "    <tr>\n",
       "      <th>1456</th>\n",
       "      <td>RL</td>\n",
       "      <td>Pave</td>\n",
       "      <td>Reg</td>\n",
       "      <td>Lvl</td>\n",
       "      <td>AllPub</td>\n",
       "      <td>Inside</td>\n",
       "      <td>Gtl</td>\n",
       "      <td>NWAmes</td>\n",
       "      <td>Norm</td>\n",
       "      <td>Norm</td>\n",
       "      <td>...</td>\n",
       "      <td>SBrkr</td>\n",
       "      <td>TA</td>\n",
       "      <td>Min1</td>\n",
       "      <td>Attchd</td>\n",
       "      <td>Unf</td>\n",
       "      <td>TA</td>\n",
       "      <td>TA</td>\n",
       "      <td>Y</td>\n",
       "      <td>WD</td>\n",
       "      <td>Normal</td>\n",
       "    </tr>\n",
       "    <tr>\n",
       "      <th>1457</th>\n",
       "      <td>RL</td>\n",
       "      <td>Pave</td>\n",
       "      <td>Reg</td>\n",
       "      <td>Lvl</td>\n",
       "      <td>AllPub</td>\n",
       "      <td>Inside</td>\n",
       "      <td>Gtl</td>\n",
       "      <td>Crawfor</td>\n",
       "      <td>Norm</td>\n",
       "      <td>Norm</td>\n",
       "      <td>...</td>\n",
       "      <td>SBrkr</td>\n",
       "      <td>Gd</td>\n",
       "      <td>Typ</td>\n",
       "      <td>Attchd</td>\n",
       "      <td>RFn</td>\n",
       "      <td>TA</td>\n",
       "      <td>TA</td>\n",
       "      <td>Y</td>\n",
       "      <td>WD</td>\n",
       "      <td>Normal</td>\n",
       "    </tr>\n",
       "    <tr>\n",
       "      <th>1458</th>\n",
       "      <td>RL</td>\n",
       "      <td>Pave</td>\n",
       "      <td>Reg</td>\n",
       "      <td>Lvl</td>\n",
       "      <td>AllPub</td>\n",
       "      <td>Inside</td>\n",
       "      <td>Gtl</td>\n",
       "      <td>NAmes</td>\n",
       "      <td>Norm</td>\n",
       "      <td>Norm</td>\n",
       "      <td>...</td>\n",
       "      <td>FuseA</td>\n",
       "      <td>Gd</td>\n",
       "      <td>Typ</td>\n",
       "      <td>Attchd</td>\n",
       "      <td>Unf</td>\n",
       "      <td>TA</td>\n",
       "      <td>TA</td>\n",
       "      <td>Y</td>\n",
       "      <td>WD</td>\n",
       "      <td>Normal</td>\n",
       "    </tr>\n",
       "    <tr>\n",
       "      <th>1459</th>\n",
       "      <td>RL</td>\n",
       "      <td>Pave</td>\n",
       "      <td>Reg</td>\n",
       "      <td>Lvl</td>\n",
       "      <td>AllPub</td>\n",
       "      <td>Inside</td>\n",
       "      <td>Gtl</td>\n",
       "      <td>Edwards</td>\n",
       "      <td>Norm</td>\n",
       "      <td>Norm</td>\n",
       "      <td>...</td>\n",
       "      <td>SBrkr</td>\n",
       "      <td>TA</td>\n",
       "      <td>Typ</td>\n",
       "      <td>Attchd</td>\n",
       "      <td>Fin</td>\n",
       "      <td>TA</td>\n",
       "      <td>TA</td>\n",
       "      <td>Y</td>\n",
       "      <td>WD</td>\n",
       "      <td>Normal</td>\n",
       "    </tr>\n",
       "  </tbody>\n",
       "</table>\n",
       "<p>1460 rows × 38 columns</p>\n",
       "</div>"
      ],
      "text/plain": [
       "     MSZoning Street LotShape LandContour Utilities LotConfig LandSlope  \\\n",
       "0          RL   Pave      Reg         Lvl    AllPub    Inside       Gtl   \n",
       "1          RL   Pave      Reg         Lvl    AllPub       FR2       Gtl   \n",
       "2          RL   Pave      IR1         Lvl    AllPub    Inside       Gtl   \n",
       "3          RL   Pave      IR1         Lvl    AllPub    Corner       Gtl   \n",
       "4          RL   Pave      IR1         Lvl    AllPub       FR2       Gtl   \n",
       "...       ...    ...      ...         ...       ...       ...       ...   \n",
       "1455       RL   Pave      Reg         Lvl    AllPub    Inside       Gtl   \n",
       "1456       RL   Pave      Reg         Lvl    AllPub    Inside       Gtl   \n",
       "1457       RL   Pave      Reg         Lvl    AllPub    Inside       Gtl   \n",
       "1458       RL   Pave      Reg         Lvl    AllPub    Inside       Gtl   \n",
       "1459       RL   Pave      Reg         Lvl    AllPub    Inside       Gtl   \n",
       "\n",
       "     Neighborhood Condition1 Condition2  ... Electrical KitchenQual  \\\n",
       "0         CollgCr       Norm       Norm  ...      SBrkr          Gd   \n",
       "1         Veenker      Feedr       Norm  ...      SBrkr          TA   \n",
       "2         CollgCr       Norm       Norm  ...      SBrkr          Gd   \n",
       "3         Crawfor       Norm       Norm  ...      SBrkr          Gd   \n",
       "4         NoRidge       Norm       Norm  ...      SBrkr          Gd   \n",
       "...           ...        ...        ...  ...        ...         ...   \n",
       "1455      Gilbert       Norm       Norm  ...      SBrkr          TA   \n",
       "1456       NWAmes       Norm       Norm  ...      SBrkr          TA   \n",
       "1457      Crawfor       Norm       Norm  ...      SBrkr          Gd   \n",
       "1458        NAmes       Norm       Norm  ...      FuseA          Gd   \n",
       "1459      Edwards       Norm       Norm  ...      SBrkr          TA   \n",
       "\n",
       "     Functional GarageType GarageFinish GarageQual GarageCond PavedDrive  \\\n",
       "0           Typ     Attchd          RFn         TA         TA          Y   \n",
       "1           Typ     Attchd          RFn         TA         TA          Y   \n",
       "2           Typ     Attchd          RFn         TA         TA          Y   \n",
       "3           Typ     Detchd          Unf         TA         TA          Y   \n",
       "4           Typ     Attchd          RFn         TA         TA          Y   \n",
       "...         ...        ...          ...        ...        ...        ...   \n",
       "1455        Typ     Attchd          RFn         TA         TA          Y   \n",
       "1456       Min1     Attchd          Unf         TA         TA          Y   \n",
       "1457        Typ     Attchd          RFn         TA         TA          Y   \n",
       "1458        Typ     Attchd          Unf         TA         TA          Y   \n",
       "1459        Typ     Attchd          Fin         TA         TA          Y   \n",
       "\n",
       "     SaleType SaleCondition  \n",
       "0          WD        Normal  \n",
       "1          WD        Normal  \n",
       "2          WD        Normal  \n",
       "3          WD       Abnorml  \n",
       "4          WD        Normal  \n",
       "...       ...           ...  \n",
       "1455       WD        Normal  \n",
       "1456       WD        Normal  \n",
       "1457       WD        Normal  \n",
       "1458       WD        Normal  \n",
       "1459       WD        Normal  \n",
       "\n",
       "[1460 rows x 38 columns]"
      ]
     },
     "execution_count": 26,
     "metadata": {},
     "output_type": "execute_result"
    }
   ],
   "source": [
    "categoricals = train_df.select_dtypes(include=['object'])\n",
    "categoricals"
   ]
  },
  {
   "cell_type": "code",
   "execution_count": 27,
   "id": "11d792f3",
   "metadata": {},
   "outputs": [
    {
     "data": {
      "text/plain": [
       "['MSZoning',\n",
       " 'Street',\n",
       " 'LotShape',\n",
       " 'LandContour',\n",
       " 'Utilities',\n",
       " 'LotConfig',\n",
       " 'LandSlope',\n",
       " 'Neighborhood',\n",
       " 'Condition1',\n",
       " 'Condition2',\n",
       " 'BldgType',\n",
       " 'HouseStyle',\n",
       " 'RoofStyle',\n",
       " 'RoofMatl',\n",
       " 'Exterior1st',\n",
       " 'Exterior2nd',\n",
       " 'MasVnrType',\n",
       " 'ExterQual',\n",
       " 'ExterCond',\n",
       " 'Foundation',\n",
       " 'BsmtQual',\n",
       " 'BsmtCond',\n",
       " 'BsmtExposure',\n",
       " 'BsmtFinType1',\n",
       " 'BsmtFinType2',\n",
       " 'Heating',\n",
       " 'HeatingQC',\n",
       " 'CentralAir',\n",
       " 'Electrical',\n",
       " 'KitchenQual',\n",
       " 'Functional',\n",
       " 'GarageType',\n",
       " 'GarageFinish',\n",
       " 'GarageQual',\n",
       " 'GarageCond',\n",
       " 'PavedDrive',\n",
       " 'SaleType',\n",
       " 'SaleCondition']"
      ]
     },
     "execution_count": 27,
     "metadata": {},
     "output_type": "execute_result"
    }
   ],
   "source": [
    "list(categoricals.columns)"
   ]
  },
  {
   "cell_type": "code",
   "execution_count": 28,
   "id": "fd8ac7f4",
   "metadata": {},
   "outputs": [
    {
     "data": {
      "text/plain": [
       "38"
      ]
     },
     "execution_count": 28,
     "metadata": {},
     "output_type": "execute_result"
    }
   ],
   "source": [
    "len(categoricals.columns)"
   ]
  },
  {
   "cell_type": "code",
   "execution_count": 29,
   "id": "020b90e8",
   "metadata": {},
   "outputs": [
    {
     "data": {
      "text/plain": [
       "object    38\n",
       "dtype: int64"
      ]
     },
     "execution_count": 29,
     "metadata": {},
     "output_type": "execute_result"
    }
   ],
   "source": [
    "categoricals.dtypes.value_counts()"
   ]
  },
  {
   "cell_type": "code",
   "execution_count": 30,
   "id": "08dd4d3b",
   "metadata": {},
   "outputs": [
    {
     "name": "stdout",
     "output_type": "stream",
     "text": [
      "<class 'pandas.core.frame.DataFrame'>\n",
      "RangeIndex: 1460 entries, 0 to 1459\n",
      "Data columns (total 38 columns):\n",
      " #   Column         Non-Null Count  Dtype \n",
      "---  ------         --------------  ----- \n",
      " 0   MSZoning       1460 non-null   object\n",
      " 1   Street         1460 non-null   object\n",
      " 2   LotShape       1460 non-null   object\n",
      " 3   LandContour    1460 non-null   object\n",
      " 4   Utilities      1460 non-null   object\n",
      " 5   LotConfig      1460 non-null   object\n",
      " 6   LandSlope      1460 non-null   object\n",
      " 7   Neighborhood   1460 non-null   object\n",
      " 8   Condition1     1460 non-null   object\n",
      " 9   Condition2     1460 non-null   object\n",
      " 10  BldgType       1460 non-null   object\n",
      " 11  HouseStyle     1460 non-null   object\n",
      " 12  RoofStyle      1460 non-null   object\n",
      " 13  RoofMatl       1460 non-null   object\n",
      " 14  Exterior1st    1460 non-null   object\n",
      " 15  Exterior2nd    1460 non-null   object\n",
      " 16  MasVnrType     1452 non-null   object\n",
      " 17  ExterQual      1460 non-null   object\n",
      " 18  ExterCond      1460 non-null   object\n",
      " 19  Foundation     1460 non-null   object\n",
      " 20  BsmtQual       1423 non-null   object\n",
      " 21  BsmtCond       1423 non-null   object\n",
      " 22  BsmtExposure   1422 non-null   object\n",
      " 23  BsmtFinType1   1423 non-null   object\n",
      " 24  BsmtFinType2   1422 non-null   object\n",
      " 25  Heating        1460 non-null   object\n",
      " 26  HeatingQC      1460 non-null   object\n",
      " 27  CentralAir     1460 non-null   object\n",
      " 28  Electrical     1459 non-null   object\n",
      " 29  KitchenQual    1460 non-null   object\n",
      " 30  Functional     1460 non-null   object\n",
      " 31  GarageType     1379 non-null   object\n",
      " 32  GarageFinish   1379 non-null   object\n",
      " 33  GarageQual     1379 non-null   object\n",
      " 34  GarageCond     1379 non-null   object\n",
      " 35  PavedDrive     1460 non-null   object\n",
      " 36  SaleType       1460 non-null   object\n",
      " 37  SaleCondition  1460 non-null   object\n",
      "dtypes: object(38)\n",
      "memory usage: 433.6+ KB\n"
     ]
    }
   ],
   "source": [
    "categoricals.info()"
   ]
  },
  {
   "cell_type": "code",
   "execution_count": 31,
   "id": "5b72735d",
   "metadata": {},
   "outputs": [
    {
     "data": {
      "text/plain": [
       "MasVnrType       8\n",
       "BsmtQual        37\n",
       "BsmtCond        37\n",
       "BsmtExposure    38\n",
       "BsmtFinType1    37\n",
       "BsmtFinType2    38\n",
       "GarageType      81\n",
       "GarageFinish    81\n",
       "GarageQual      81\n",
       "GarageCond      81\n",
       "dtype: int64"
      ]
     },
     "execution_count": 31,
     "metadata": {},
     "output_type": "execute_result"
    }
   ],
   "source": [
    "categoricals.isna().sum()[categoricals.isna().sum() > 1]"
   ]
  },
  {
   "cell_type": "code",
   "execution_count": 32,
   "id": "2f994bfe",
   "metadata": {},
   "outputs": [],
   "source": [
    "# fill missing categoricals with 'None'\n",
    "objects = []\n",
    "for i in categoricals.columns:\n",
    "  if categoricals[i].dtype == object:\n",
    "    objects.append(i)\n",
    "    categoricals.update(categoricals[objects].fillna('None'))"
   ]
  },
  {
   "cell_type": "code",
   "execution_count": 33,
   "id": "4c5c7ec5",
   "metadata": {},
   "outputs": [
    {
     "data": {
      "text/plain": [
       "MSZoning         False\n",
       "Street           False\n",
       "LotShape         False\n",
       "LandContour      False\n",
       "Utilities        False\n",
       "LotConfig        False\n",
       "LandSlope        False\n",
       "Neighborhood     False\n",
       "Condition1       False\n",
       "Condition2       False\n",
       "BldgType         False\n",
       "HouseStyle       False\n",
       "RoofStyle        False\n",
       "RoofMatl         False\n",
       "Exterior1st      False\n",
       "Exterior2nd      False\n",
       "MasVnrType       False\n",
       "ExterQual        False\n",
       "ExterCond        False\n",
       "Foundation       False\n",
       "BsmtQual         False\n",
       "BsmtCond         False\n",
       "BsmtExposure     False\n",
       "BsmtFinType1     False\n",
       "BsmtFinType2     False\n",
       "Heating          False\n",
       "HeatingQC        False\n",
       "CentralAir       False\n",
       "Electrical       False\n",
       "KitchenQual      False\n",
       "Functional       False\n",
       "GarageType       False\n",
       "GarageFinish     False\n",
       "GarageQual       False\n",
       "GarageCond       False\n",
       "PavedDrive       False\n",
       "SaleType         False\n",
       "SaleCondition    False\n",
       "dtype: bool"
      ]
     },
     "execution_count": 33,
     "metadata": {},
     "output_type": "execute_result"
    }
   ],
   "source": [
    "categoricals.isna().any()"
   ]
  },
  {
   "cell_type": "markdown",
   "id": "012a7c0b",
   "metadata": {},
   "source": [
    "### Convert categorical values to numerical values"
   ]
  },
  {
   "cell_type": "code",
   "execution_count": 34,
   "id": "6d34cc2b",
   "metadata": {},
   "outputs": [
    {
     "data": {
      "text/html": [
       "<div>\n",
       "<style scoped>\n",
       "    .dataframe tbody tr th:only-of-type {\n",
       "        vertical-align: middle;\n",
       "    }\n",
       "\n",
       "    .dataframe tbody tr th {\n",
       "        vertical-align: top;\n",
       "    }\n",
       "\n",
       "    .dataframe thead th {\n",
       "        text-align: right;\n",
       "    }\n",
       "</style>\n",
       "<table border=\"1\" class=\"dataframe\">\n",
       "  <thead>\n",
       "    <tr style=\"text-align: right;\">\n",
       "      <th></th>\n",
       "      <th>MSSubClass</th>\n",
       "      <th>MSZoning</th>\n",
       "      <th>LotArea</th>\n",
       "      <th>Street</th>\n",
       "      <th>LotShape</th>\n",
       "      <th>LandContour</th>\n",
       "      <th>Utilities</th>\n",
       "      <th>LotConfig</th>\n",
       "      <th>LandSlope</th>\n",
       "      <th>Neighborhood</th>\n",
       "      <th>...</th>\n",
       "      <th>EnclosedPorch</th>\n",
       "      <th>3SsnPorch</th>\n",
       "      <th>ScreenPorch</th>\n",
       "      <th>PoolArea</th>\n",
       "      <th>MiscVal</th>\n",
       "      <th>MoSold</th>\n",
       "      <th>YrSold</th>\n",
       "      <th>SaleType</th>\n",
       "      <th>SaleCondition</th>\n",
       "      <th>SalePrice</th>\n",
       "    </tr>\n",
       "  </thead>\n",
       "  <tbody>\n",
       "    <tr>\n",
       "      <th>0</th>\n",
       "      <td>60</td>\n",
       "      <td>3</td>\n",
       "      <td>8450</td>\n",
       "      <td>1</td>\n",
       "      <td>3</td>\n",
       "      <td>3</td>\n",
       "      <td>0</td>\n",
       "      <td>4</td>\n",
       "      <td>0</td>\n",
       "      <td>5</td>\n",
       "      <td>...</td>\n",
       "      <td>0</td>\n",
       "      <td>0</td>\n",
       "      <td>0</td>\n",
       "      <td>0</td>\n",
       "      <td>0</td>\n",
       "      <td>2</td>\n",
       "      <td>2008</td>\n",
       "      <td>8</td>\n",
       "      <td>4</td>\n",
       "      <td>208500</td>\n",
       "    </tr>\n",
       "    <tr>\n",
       "      <th>1</th>\n",
       "      <td>20</td>\n",
       "      <td>3</td>\n",
       "      <td>9600</td>\n",
       "      <td>1</td>\n",
       "      <td>3</td>\n",
       "      <td>3</td>\n",
       "      <td>0</td>\n",
       "      <td>2</td>\n",
       "      <td>0</td>\n",
       "      <td>24</td>\n",
       "      <td>...</td>\n",
       "      <td>0</td>\n",
       "      <td>0</td>\n",
       "      <td>0</td>\n",
       "      <td>0</td>\n",
       "      <td>0</td>\n",
       "      <td>5</td>\n",
       "      <td>2007</td>\n",
       "      <td>8</td>\n",
       "      <td>4</td>\n",
       "      <td>181500</td>\n",
       "    </tr>\n",
       "    <tr>\n",
       "      <th>2</th>\n",
       "      <td>60</td>\n",
       "      <td>3</td>\n",
       "      <td>11250</td>\n",
       "      <td>1</td>\n",
       "      <td>0</td>\n",
       "      <td>3</td>\n",
       "      <td>0</td>\n",
       "      <td>4</td>\n",
       "      <td>0</td>\n",
       "      <td>5</td>\n",
       "      <td>...</td>\n",
       "      <td>0</td>\n",
       "      <td>0</td>\n",
       "      <td>0</td>\n",
       "      <td>0</td>\n",
       "      <td>0</td>\n",
       "      <td>9</td>\n",
       "      <td>2008</td>\n",
       "      <td>8</td>\n",
       "      <td>4</td>\n",
       "      <td>223500</td>\n",
       "    </tr>\n",
       "    <tr>\n",
       "      <th>3</th>\n",
       "      <td>70</td>\n",
       "      <td>3</td>\n",
       "      <td>9550</td>\n",
       "      <td>1</td>\n",
       "      <td>0</td>\n",
       "      <td>3</td>\n",
       "      <td>0</td>\n",
       "      <td>0</td>\n",
       "      <td>0</td>\n",
       "      <td>6</td>\n",
       "      <td>...</td>\n",
       "      <td>272</td>\n",
       "      <td>0</td>\n",
       "      <td>0</td>\n",
       "      <td>0</td>\n",
       "      <td>0</td>\n",
       "      <td>2</td>\n",
       "      <td>2006</td>\n",
       "      <td>8</td>\n",
       "      <td>0</td>\n",
       "      <td>140000</td>\n",
       "    </tr>\n",
       "    <tr>\n",
       "      <th>4</th>\n",
       "      <td>60</td>\n",
       "      <td>3</td>\n",
       "      <td>14260</td>\n",
       "      <td>1</td>\n",
       "      <td>0</td>\n",
       "      <td>3</td>\n",
       "      <td>0</td>\n",
       "      <td>2</td>\n",
       "      <td>0</td>\n",
       "      <td>15</td>\n",
       "      <td>...</td>\n",
       "      <td>0</td>\n",
       "      <td>0</td>\n",
       "      <td>0</td>\n",
       "      <td>0</td>\n",
       "      <td>0</td>\n",
       "      <td>12</td>\n",
       "      <td>2008</td>\n",
       "      <td>8</td>\n",
       "      <td>4</td>\n",
       "      <td>250000</td>\n",
       "    </tr>\n",
       "    <tr>\n",
       "      <th>...</th>\n",
       "      <td>...</td>\n",
       "      <td>...</td>\n",
       "      <td>...</td>\n",
       "      <td>...</td>\n",
       "      <td>...</td>\n",
       "      <td>...</td>\n",
       "      <td>...</td>\n",
       "      <td>...</td>\n",
       "      <td>...</td>\n",
       "      <td>...</td>\n",
       "      <td>...</td>\n",
       "      <td>...</td>\n",
       "      <td>...</td>\n",
       "      <td>...</td>\n",
       "      <td>...</td>\n",
       "      <td>...</td>\n",
       "      <td>...</td>\n",
       "      <td>...</td>\n",
       "      <td>...</td>\n",
       "      <td>...</td>\n",
       "      <td>...</td>\n",
       "    </tr>\n",
       "    <tr>\n",
       "      <th>1455</th>\n",
       "      <td>60</td>\n",
       "      <td>3</td>\n",
       "      <td>7917</td>\n",
       "      <td>1</td>\n",
       "      <td>3</td>\n",
       "      <td>3</td>\n",
       "      <td>0</td>\n",
       "      <td>4</td>\n",
       "      <td>0</td>\n",
       "      <td>8</td>\n",
       "      <td>...</td>\n",
       "      <td>0</td>\n",
       "      <td>0</td>\n",
       "      <td>0</td>\n",
       "      <td>0</td>\n",
       "      <td>0</td>\n",
       "      <td>8</td>\n",
       "      <td>2007</td>\n",
       "      <td>8</td>\n",
       "      <td>4</td>\n",
       "      <td>175000</td>\n",
       "    </tr>\n",
       "    <tr>\n",
       "      <th>1456</th>\n",
       "      <td>20</td>\n",
       "      <td>3</td>\n",
       "      <td>13175</td>\n",
       "      <td>1</td>\n",
       "      <td>3</td>\n",
       "      <td>3</td>\n",
       "      <td>0</td>\n",
       "      <td>4</td>\n",
       "      <td>0</td>\n",
       "      <td>14</td>\n",
       "      <td>...</td>\n",
       "      <td>0</td>\n",
       "      <td>0</td>\n",
       "      <td>0</td>\n",
       "      <td>0</td>\n",
       "      <td>0</td>\n",
       "      <td>2</td>\n",
       "      <td>2010</td>\n",
       "      <td>8</td>\n",
       "      <td>4</td>\n",
       "      <td>210000</td>\n",
       "    </tr>\n",
       "    <tr>\n",
       "      <th>1457</th>\n",
       "      <td>70</td>\n",
       "      <td>3</td>\n",
       "      <td>9042</td>\n",
       "      <td>1</td>\n",
       "      <td>3</td>\n",
       "      <td>3</td>\n",
       "      <td>0</td>\n",
       "      <td>4</td>\n",
       "      <td>0</td>\n",
       "      <td>6</td>\n",
       "      <td>...</td>\n",
       "      <td>0</td>\n",
       "      <td>0</td>\n",
       "      <td>0</td>\n",
       "      <td>0</td>\n",
       "      <td>2500</td>\n",
       "      <td>5</td>\n",
       "      <td>2010</td>\n",
       "      <td>8</td>\n",
       "      <td>4</td>\n",
       "      <td>266500</td>\n",
       "    </tr>\n",
       "    <tr>\n",
       "      <th>1458</th>\n",
       "      <td>20</td>\n",
       "      <td>3</td>\n",
       "      <td>9717</td>\n",
       "      <td>1</td>\n",
       "      <td>3</td>\n",
       "      <td>3</td>\n",
       "      <td>0</td>\n",
       "      <td>4</td>\n",
       "      <td>0</td>\n",
       "      <td>12</td>\n",
       "      <td>...</td>\n",
       "      <td>112</td>\n",
       "      <td>0</td>\n",
       "      <td>0</td>\n",
       "      <td>0</td>\n",
       "      <td>0</td>\n",
       "      <td>4</td>\n",
       "      <td>2010</td>\n",
       "      <td>8</td>\n",
       "      <td>4</td>\n",
       "      <td>142125</td>\n",
       "    </tr>\n",
       "    <tr>\n",
       "      <th>1459</th>\n",
       "      <td>20</td>\n",
       "      <td>3</td>\n",
       "      <td>9937</td>\n",
       "      <td>1</td>\n",
       "      <td>3</td>\n",
       "      <td>3</td>\n",
       "      <td>0</td>\n",
       "      <td>4</td>\n",
       "      <td>0</td>\n",
       "      <td>7</td>\n",
       "      <td>...</td>\n",
       "      <td>0</td>\n",
       "      <td>0</td>\n",
       "      <td>0</td>\n",
       "      <td>0</td>\n",
       "      <td>0</td>\n",
       "      <td>6</td>\n",
       "      <td>2008</td>\n",
       "      <td>8</td>\n",
       "      <td>4</td>\n",
       "      <td>147500</td>\n",
       "    </tr>\n",
       "  </tbody>\n",
       "</table>\n",
       "<p>1460 rows × 74 columns</p>\n",
       "</div>"
      ],
      "text/plain": [
       "      MSSubClass  MSZoning  LotArea  Street  LotShape  LandContour  Utilities  \\\n",
       "0             60         3     8450       1         3            3          0   \n",
       "1             20         3     9600       1         3            3          0   \n",
       "2             60         3    11250       1         0            3          0   \n",
       "3             70         3     9550       1         0            3          0   \n",
       "4             60         3    14260       1         0            3          0   \n",
       "...          ...       ...      ...     ...       ...          ...        ...   \n",
       "1455          60         3     7917       1         3            3          0   \n",
       "1456          20         3    13175       1         3            3          0   \n",
       "1457          70         3     9042       1         3            3          0   \n",
       "1458          20         3     9717       1         3            3          0   \n",
       "1459          20         3     9937       1         3            3          0   \n",
       "\n",
       "      LotConfig  LandSlope  Neighborhood  ...  EnclosedPorch  3SsnPorch  \\\n",
       "0             4          0             5  ...              0          0   \n",
       "1             2          0            24  ...              0          0   \n",
       "2             4          0             5  ...              0          0   \n",
       "3             0          0             6  ...            272          0   \n",
       "4             2          0            15  ...              0          0   \n",
       "...         ...        ...           ...  ...            ...        ...   \n",
       "1455          4          0             8  ...              0          0   \n",
       "1456          4          0            14  ...              0          0   \n",
       "1457          4          0             6  ...              0          0   \n",
       "1458          4          0            12  ...            112          0   \n",
       "1459          4          0             7  ...              0          0   \n",
       "\n",
       "      ScreenPorch  PoolArea  MiscVal  MoSold  YrSold  SaleType  SaleCondition  \\\n",
       "0               0         0        0       2    2008         8              4   \n",
       "1               0         0        0       5    2007         8              4   \n",
       "2               0         0        0       9    2008         8              4   \n",
       "3               0         0        0       2    2006         8              0   \n",
       "4               0         0        0      12    2008         8              4   \n",
       "...           ...       ...      ...     ...     ...       ...            ...   \n",
       "1455            0         0        0       8    2007         8              4   \n",
       "1456            0         0        0       2    2010         8              4   \n",
       "1457            0         0     2500       5    2010         8              4   \n",
       "1458            0         0        0       4    2010         8              4   \n",
       "1459            0         0        0       6    2008         8              4   \n",
       "\n",
       "      SalePrice  \n",
       "0        208500  \n",
       "1        181500  \n",
       "2        223500  \n",
       "3        140000  \n",
       "4        250000  \n",
       "...         ...  \n",
       "1455     175000  \n",
       "1456     210000  \n",
       "1457     266500  \n",
       "1458     142125  \n",
       "1459     147500  \n",
       "\n",
       "[1460 rows x 74 columns]"
      ]
     },
     "execution_count": 34,
     "metadata": {},
     "output_type": "execute_result"
    }
   ],
   "source": [
    "from sklearn import preprocessing\n",
    "\n",
    "le = preprocessing.LabelEncoder()\n",
    "\n",
    "train_df.MSZoning = le.fit_transform(train_df.MSZoning)\n",
    "train_df.Street = le.fit_transform(train_df.Street)\n",
    "train_df.LotShape = le.fit_transform(train_df.LotShape)\n",
    "train_df.LandContour = le.fit_transform(train_df.LandContour)\n",
    "train_df.Utilities = le.fit_transform(train_df.Utilities)\n",
    "train_df.LotConfig = le.fit_transform(train_df.LotConfig)\n",
    "train_df.LandSlope = le.fit_transform(train_df.LandSlope)\n",
    "train_df.Neighborhood = le.fit_transform(train_df.Neighborhood)\n",
    "train_df.Condition1 = le.fit_transform(train_df.Condition1)\n",
    "train_df.Condition2 = le.fit_transform(train_df.Condition2)\n",
    "train_df.BldgType = le.fit_transform(train_df.BldgType)\n",
    "train_df.HouseStyle = le.fit_transform(train_df.HouseStyle)\n",
    "train_df.RoofStyle = le.fit_transform(train_df.RoofStyle)\n",
    "train_df.RoofMatl = le.fit_transform(train_df.RoofMatl)\n",
    "train_df.Exterior1st = le.fit_transform(train_df.Exterior1st)\n",
    "train_df.Exterior2nd = le.fit_transform(train_df.Exterior2nd)\n",
    "train_df.MasVnrType = le.fit_transform(train_df.MasVnrType)\n",
    "train_df.ExterQual = le.fit_transform(train_df.ExterQual)\n",
    "train_df.ExterCond = le.fit_transform(train_df.ExterCond)\n",
    "train_df.Foundation = le.fit_transform(train_df.Foundation)\n",
    "train_df.BsmtQual = le.fit_transform(train_df.BsmtQual)\n",
    "train_df.BsmtCond = le.fit_transform(train_df.BsmtCond)\n",
    "train_df.BsmtExposure = le.fit_transform(train_df.BsmtExposure)\n",
    "train_df.BsmtFinType1 = le.fit_transform(train_df.BsmtFinType1)\n",
    "train_df.BsmtFinType2 = le.fit_transform(train_df.BsmtFinType2)\n",
    "train_df.Heating = le.fit_transform(train_df.Heating)\n",
    "train_df.HeatingQC = le.fit_transform(train_df.HeatingQC)\n",
    "train_df.CentralAir = le.fit_transform(train_df.CentralAir)\n",
    "train_df.Electrical = le.fit_transform(train_df.Electrical)\n",
    "train_df.KitchenQual = le.fit_transform(train_df.KitchenQual)\n",
    "train_df.Functional = le.fit_transform(train_df.Functional)\n",
    "train_df.GarageType = le.fit_transform(train_df.GarageType)\n",
    "train_df.GarageFinish = le.fit_transform(train_df.GarageFinish)\n",
    "train_df.GarageQual = le.fit_transform(train_df.GarageQual)\n",
    "train_df.GarageCond = le.fit_transform(train_df.GarageCond)\n",
    "train_df.PavedDrive = le.fit_transform(train_df.PavedDrive)\n",
    "train_df.SaleType = le.fit_transform(train_df.SaleType)\n",
    "train_df.SaleCondition = le.fit_transform(train_df.SaleCondition)\n",
    "\n",
    "train_df.dropna(axis=1,inplace = True)\n",
    "\n",
    "train_df"
   ]
  },
  {
   "cell_type": "code",
   "execution_count": 35,
   "id": "27939be6",
   "metadata": {},
   "outputs": [
    {
     "data": {
      "text/plain": [
       "['MSSubClass',\n",
       " 'MSZoning',\n",
       " 'LotArea',\n",
       " 'Street',\n",
       " 'LotShape',\n",
       " 'LandContour',\n",
       " 'Utilities',\n",
       " 'LotConfig',\n",
       " 'LandSlope',\n",
       " 'Neighborhood',\n",
       " 'Condition1',\n",
       " 'Condition2',\n",
       " 'BldgType',\n",
       " 'HouseStyle',\n",
       " 'OverallQual',\n",
       " 'OverallCond',\n",
       " 'YearBuilt',\n",
       " 'YearRemodAdd',\n",
       " 'RoofStyle',\n",
       " 'RoofMatl',\n",
       " 'Exterior1st',\n",
       " 'Exterior2nd',\n",
       " 'MasVnrType',\n",
       " 'MasVnrArea',\n",
       " 'ExterQual',\n",
       " 'ExterCond',\n",
       " 'Foundation',\n",
       " 'BsmtQual',\n",
       " 'BsmtCond',\n",
       " 'BsmtExposure',\n",
       " 'BsmtFinType1',\n",
       " 'BsmtFinSF1',\n",
       " 'BsmtFinType2',\n",
       " 'BsmtFinSF2',\n",
       " 'BsmtUnfSF',\n",
       " 'TotalBsmtSF',\n",
       " 'Heating',\n",
       " 'HeatingQC',\n",
       " 'CentralAir',\n",
       " 'Electrical',\n",
       " '1stFlrSF',\n",
       " '2ndFlrSF',\n",
       " 'LowQualFinSF',\n",
       " 'GrLivArea',\n",
       " 'BsmtFullBath',\n",
       " 'BsmtHalfBath',\n",
       " 'FullBath',\n",
       " 'HalfBath',\n",
       " 'BedroomAbvGr',\n",
       " 'KitchenAbvGr',\n",
       " 'KitchenQual',\n",
       " 'TotRmsAbvGrd',\n",
       " 'Functional',\n",
       " 'Fireplaces',\n",
       " 'GarageType',\n",
       " 'GarageYrBlt',\n",
       " 'GarageFinish',\n",
       " 'GarageCars',\n",
       " 'GarageArea',\n",
       " 'GarageQual',\n",
       " 'GarageCond',\n",
       " 'PavedDrive',\n",
       " 'WoodDeckSF',\n",
       " 'OpenPorchSF',\n",
       " 'EnclosedPorch',\n",
       " '3SsnPorch',\n",
       " 'ScreenPorch',\n",
       " 'PoolArea',\n",
       " 'MiscVal',\n",
       " 'MoSold',\n",
       " 'YrSold',\n",
       " 'SaleType',\n",
       " 'SaleCondition',\n",
       " 'SalePrice']"
      ]
     },
     "execution_count": 35,
     "metadata": {},
     "output_type": "execute_result"
    }
   ],
   "source": [
    "list(train_df.columns)"
   ]
  },
  {
   "cell_type": "code",
   "execution_count": 36,
   "id": "1b845f93",
   "metadata": {},
   "outputs": [
    {
     "data": {
      "text/plain": [
       "74"
      ]
     },
     "execution_count": 36,
     "metadata": {},
     "output_type": "execute_result"
    }
   ],
   "source": [
    "len(train_df.columns)"
   ]
  },
  {
   "cell_type": "code",
   "execution_count": 37,
   "id": "e5e371f3",
   "metadata": {},
   "outputs": [
    {
     "data": {
      "text/plain": [
       "int64      72\n",
       "float64     2\n",
       "dtype: int64"
      ]
     },
     "execution_count": 37,
     "metadata": {},
     "output_type": "execute_result"
    }
   ],
   "source": [
    "train_df.dtypes.value_counts()"
   ]
  },
  {
   "cell_type": "code",
   "execution_count": 38,
   "id": "adf72c8b",
   "metadata": {},
   "outputs": [
    {
     "name": "stdout",
     "output_type": "stream",
     "text": [
      "<class 'pandas.core.frame.DataFrame'>\n",
      "RangeIndex: 1460 entries, 0 to 1459\n",
      "Data columns (total 74 columns):\n",
      " #   Column         Non-Null Count  Dtype  \n",
      "---  ------         --------------  -----  \n",
      " 0   MSSubClass     1460 non-null   int64  \n",
      " 1   MSZoning       1460 non-null   int64  \n",
      " 2   LotArea        1460 non-null   int64  \n",
      " 3   Street         1460 non-null   int64  \n",
      " 4   LotShape       1460 non-null   int64  \n",
      " 5   LandContour    1460 non-null   int64  \n",
      " 6   Utilities      1460 non-null   int64  \n",
      " 7   LotConfig      1460 non-null   int64  \n",
      " 8   LandSlope      1460 non-null   int64  \n",
      " 9   Neighborhood   1460 non-null   int64  \n",
      " 10  Condition1     1460 non-null   int64  \n",
      " 11  Condition2     1460 non-null   int64  \n",
      " 12  BldgType       1460 non-null   int64  \n",
      " 13  HouseStyle     1460 non-null   int64  \n",
      " 14  OverallQual    1460 non-null   int64  \n",
      " 15  OverallCond    1460 non-null   int64  \n",
      " 16  YearBuilt      1460 non-null   int64  \n",
      " 17  YearRemodAdd   1460 non-null   int64  \n",
      " 18  RoofStyle      1460 non-null   int64  \n",
      " 19  RoofMatl       1460 non-null   int64  \n",
      " 20  Exterior1st    1460 non-null   int64  \n",
      " 21  Exterior2nd    1460 non-null   int64  \n",
      " 22  MasVnrType     1460 non-null   int64  \n",
      " 23  MasVnrArea     1460 non-null   float64\n",
      " 24  ExterQual      1460 non-null   int64  \n",
      " 25  ExterCond      1460 non-null   int64  \n",
      " 26  Foundation     1460 non-null   int64  \n",
      " 27  BsmtQual       1460 non-null   int64  \n",
      " 28  BsmtCond       1460 non-null   int64  \n",
      " 29  BsmtExposure   1460 non-null   int64  \n",
      " 30  BsmtFinType1   1460 non-null   int64  \n",
      " 31  BsmtFinSF1     1460 non-null   int64  \n",
      " 32  BsmtFinType2   1460 non-null   int64  \n",
      " 33  BsmtFinSF2     1460 non-null   int64  \n",
      " 34  BsmtUnfSF      1460 non-null   int64  \n",
      " 35  TotalBsmtSF    1460 non-null   int64  \n",
      " 36  Heating        1460 non-null   int64  \n",
      " 37  HeatingQC      1460 non-null   int64  \n",
      " 38  CentralAir     1460 non-null   int64  \n",
      " 39  Electrical     1460 non-null   int64  \n",
      " 40  1stFlrSF       1460 non-null   int64  \n",
      " 41  2ndFlrSF       1460 non-null   int64  \n",
      " 42  LowQualFinSF   1460 non-null   int64  \n",
      " 43  GrLivArea      1460 non-null   int64  \n",
      " 44  BsmtFullBath   1460 non-null   int64  \n",
      " 45  BsmtHalfBath   1460 non-null   int64  \n",
      " 46  FullBath       1460 non-null   int64  \n",
      " 47  HalfBath       1460 non-null   int64  \n",
      " 48  BedroomAbvGr   1460 non-null   int64  \n",
      " 49  KitchenAbvGr   1460 non-null   int64  \n",
      " 50  KitchenQual    1460 non-null   int64  \n",
      " 51  TotRmsAbvGrd   1460 non-null   int64  \n",
      " 52  Functional     1460 non-null   int64  \n",
      " 53  Fireplaces     1460 non-null   int64  \n",
      " 54  GarageType     1460 non-null   int64  \n",
      " 55  GarageYrBlt    1460 non-null   float64\n",
      " 56  GarageFinish   1460 non-null   int64  \n",
      " 57  GarageCars     1460 non-null   int64  \n",
      " 58  GarageArea     1460 non-null   int64  \n",
      " 59  GarageQual     1460 non-null   int64  \n",
      " 60  GarageCond     1460 non-null   int64  \n",
      " 61  PavedDrive     1460 non-null   int64  \n",
      " 62  WoodDeckSF     1460 non-null   int64  \n",
      " 63  OpenPorchSF    1460 non-null   int64  \n",
      " 64  EnclosedPorch  1460 non-null   int64  \n",
      " 65  3SsnPorch      1460 non-null   int64  \n",
      " 66  ScreenPorch    1460 non-null   int64  \n",
      " 67  PoolArea       1460 non-null   int64  \n",
      " 68  MiscVal        1460 non-null   int64  \n",
      " 69  MoSold         1460 non-null   int64  \n",
      " 70  YrSold         1460 non-null   int64  \n",
      " 71  SaleType       1460 non-null   int64  \n",
      " 72  SaleCondition  1460 non-null   int64  \n",
      " 73  SalePrice      1460 non-null   int64  \n",
      "dtypes: float64(2), int64(72)\n",
      "memory usage: 844.2 KB\n"
     ]
    }
   ],
   "source": [
    "train_df.info()"
   ]
  },
  {
   "cell_type": "markdown",
   "id": "e6cf052c",
   "metadata": {},
   "source": [
    "With all of our data cleaned of nulls and converted to numerical values, we can begin our experiments. "
   ]
  },
  {
   "cell_type": "markdown",
   "id": "78f63981",
   "metadata": {},
   "source": [
    "# Experiment 1"
   ]
  },
  {
   "cell_type": "markdown",
   "id": "09228610",
   "metadata": {},
   "source": [
    "We noticed during our visualizations that there are multiple variables that are strongly correlated with SalePrice. We will use those 10 features. \n",
    "\n",
    "As a reminder, the highest values are \"OverallQual\", \"GrLivArea\", \"GarageCars\", \"GarageArea\", \"TotalBsmtSF\", \"1stFlrSF\", \"FullBath\", \"TotRmsAbvGrd\", \"YearBuilt\", and \"YearRemodAdd\""
   ]
  },
  {
   "cell_type": "markdown",
   "id": "18817795",
   "metadata": {},
   "source": [
    "### Linear Regression 1"
   ]
  },
  {
   "cell_type": "code",
   "execution_count": 39,
   "id": "dad4b461",
   "metadata": {},
   "outputs": [],
   "source": [
    "# sklearn\n",
    "import sklearn\n",
    "from sklearn.model_selection import train_test_split\n",
    "from sklearn.linear_model import LinearRegression\n",
    "from sklearn.metrics import mean_squared_error, r2_score, mean_absolute_error"
   ]
  },
  {
   "cell_type": "code",
   "execution_count": 40,
   "id": "63b3e743",
   "metadata": {},
   "outputs": [],
   "source": [
    "# assign feature columns as a list\n",
    "feature_cols = ['OverallQual', 'YearBuilt', 'YearRemodAdd', 'TotalBsmtSF', '1stFlrSF',\n",
    "       'GrLivArea', 'FullBath', 'TotRmsAbvGrd', 'GarageCars', 'GarageArea']"
   ]
  },
  {
   "cell_type": "code",
   "execution_count": 41,
   "id": "7afad6c5",
   "metadata": {},
   "outputs": [],
   "source": [
    "# assign X to only include those feature columns\n",
    "X = train_df[feature_cols]\n",
    "\n",
    "# assign y to dependent response variable\n",
    "y = train_df['SalePrice']"
   ]
  },
  {
   "cell_type": "code",
   "execution_count": 42,
   "id": "31c5ad4d",
   "metadata": {},
   "outputs": [],
   "source": [
    "# assign data to training and testing sets\n",
    "X_train, X_test, y_train, y_test = train_test_split(X, y, test_size = .3, random_state=42) "
   ]
  },
  {
   "cell_type": "code",
   "execution_count": 43,
   "id": "68648718",
   "metadata": {},
   "outputs": [
    {
     "data": {
      "text/plain": [
       "LinearRegression()"
      ]
     },
     "execution_count": 43,
     "metadata": {},
     "output_type": "execute_result"
    }
   ],
   "source": [
    "# instantiate\n",
    "linreg1 = LinearRegression()\n",
    "\n",
    "# fit data to the linear regression model\n",
    "linreg1.fit(X_train, y_train)"
   ]
  },
  {
   "cell_type": "code",
   "execution_count": 44,
   "id": "6281bc60",
   "metadata": {},
   "outputs": [
    {
     "name": "stdout",
     "output_type": "stream",
     "text": [
      "Intercept: -1236960.0471692458\n",
      "Coefficients: \n",
      "('OverallQual', 19706.15592019373)\n",
      "('YearBuilt', 289.1068751345646)\n",
      "('YearRemodAdd', 304.45633171349755)\n",
      "('TotalBsmtSF', 12.05782864126607)\n",
      "('1stFlrSF', 15.303836411584001)\n",
      "('GrLivArea', 46.415115146948494)\n",
      "('FullBath', -6968.063288247695)\n",
      "('TotRmsAbvGrd', 594.1937730064185)\n",
      "('GarageCars', 14181.862961735185)\n",
      "('GarageArea', 7.521263479668477)\n"
     ]
    }
   ],
   "source": [
    "# intercept\n",
    "print(f'Intercept: {linreg1.intercept_}')\n",
    "\n",
    "# coefficients of each feature\n",
    "list_features = list(zip(feature_cols, linreg1.coef_))\n",
    "print('Coefficients: ')\n",
    "for list_features in list_features:\n",
    "    print (list_features)"
   ]
  },
  {
   "cell_type": "markdown",
   "id": "04ab2367",
   "metadata": {},
   "source": [
    "### Evaluation of model"
   ]
  },
  {
   "cell_type": "code",
   "execution_count": 45,
   "id": "dc5db477",
   "metadata": {},
   "outputs": [],
   "source": [
    "# get predictions\n",
    "y_pred = linreg1.predict(X_test)"
   ]
  },
  {
   "cell_type": "code",
   "execution_count": 46,
   "id": "dcffce4e",
   "metadata": {},
   "outputs": [
    {
     "name": "stdout",
     "output_type": "stream",
     "text": [
      "Coefficient of Determination: 0.8011222436439066\n",
      "Mean Absolute Error: 24355.86768216195\n",
      "Mean Squared Error: 1387787630.8180628\n",
      "Root Mean Squared Error: 37253.02176761052\n"
     ]
    }
   ],
   "source": [
    "# evaluations\n",
    "print('Coefficient of Determination:', linreg1.score(X_test, y_test))\n",
    "print('Mean Absolute Error:', mean_absolute_error(y_test, y_pred))\n",
    "print('Mean Squared Error:', mean_squared_error(y_test, y_pred))\n",
    "print('Root Mean Squared Error:', np.sqrt(mean_squared_error(y_test, y_pred)))"
   ]
  },
  {
   "cell_type": "markdown",
   "id": "3401e3fa",
   "metadata": {},
   "source": [
    "Our coefficient of determination or accuracy score is only about 80 percent which isn't bad but I want to see if there is a way to increase that. "
   ]
  },
  {
   "cell_type": "markdown",
   "id": "9828e835",
   "metadata": {},
   "source": [
    "# Experiment 2"
   ]
  },
  {
   "cell_type": "markdown",
   "id": "cfa1c831",
   "metadata": {},
   "source": [
    "For this experiment, I will perform further preprocessing to improve the linear regression model's performance. I wanted to try fixing the skewness of SalePrice and its features. "
   ]
  },
  {
   "cell_type": "markdown",
   "id": "4d3faa76",
   "metadata": {},
   "source": [
    "### Address skewness"
   ]
  },
  {
   "cell_type": "code",
   "execution_count": 47,
   "id": "89e99c3e",
   "metadata": {},
   "outputs": [
    {
     "name": "stdout",
     "output_type": "stream",
     "text": [
      "Skewness: 1.882876\n"
     ]
    },
    {
     "data": {
      "image/png": "[encoded data removed]",
      "text/plain": [
       "<Figure size 360x360 with 1 Axes>"
      ]
     },
     "metadata": {
      "needs_background": "light"
     },
     "output_type": "display_data"
    }
   ],
   "source": [
    "# skewness of SalePrice\n",
    "sns.displot(train_df['SalePrice'], kde=True);\n",
    "print(\"Skewness: %f\" % train_df['SalePrice'].skew())"
   ]
  },
  {
   "cell_type": "markdown",
   "id": "235122a7",
   "metadata": {},
   "source": [
    "First, I will examine the target variable SalePrice and normalize it. Since it is skewed to the right, I will apply log(1+x) transformation to it to obtain normal distribution."
   ]
  },
  {
   "cell_type": "code",
   "execution_count": 48,
   "id": "f1a4a910",
   "metadata": {},
   "outputs": [
    {
     "name": "stdout",
     "output_type": "stream",
     "text": [
      "Skewness: 0.121347\n"
     ]
    },
    {
     "data": {
      "image/png": "[encoded data removed]",
      "text/plain": [
       "<Figure size 360x360 with 1 Axes>"
      ]
     },
     "metadata": {
      "needs_background": "light"
     },
     "output_type": "display_data"
    }
   ],
   "source": [
    "# apply log transformation\n",
    "train_df[\"SalePrice\"] = np.log1p(train_df[\"SalePrice\"])\n",
    "\n",
    "# check new distribution \n",
    "sns.displot(train_df['SalePrice'], kde=True)\n",
    "print(\"Skewness: %f\" % train_df['SalePrice'].skew())"
   ]
  },
  {
   "cell_type": "markdown",
   "id": "67a68aec",
   "metadata": {},
   "source": [
    "Next, I will check to see if the features are skewed. If they have skewness >= 1, I will apply log transformation to normalize them."
   ]
  },
  {
   "cell_type": "code",
   "execution_count": 49,
   "id": "dd1ca7c5",
   "metadata": {},
   "outputs": [
    {
     "name": "stdout",
     "output_type": "stream",
     "text": [
      "Skewness:\n",
      "OverallQual: 0.216944\n",
      "YearBuilt: -0.613461\n",
      "YearRemodAdd: -0.503562\n",
      "TotalBsmtSF: 1.524255\n",
      "1stFlrSF: 1.376757\n",
      "GrLivArea: 1.366560\n",
      "FullBath: 0.036562\n",
      "TotRmsAbvGrds: 0.676341\n",
      "GarageCars: -0.342549\n",
      "GarageArea: 0.179981\n"
     ]
    }
   ],
   "source": [
    "# print out skewness of features\n",
    "print('Skewness:')\n",
    "print(\"OverallQual: %f\" % train_df['OverallQual'].skew())\n",
    "print(\"YearBuilt: %f\" % train_df['YearBuilt'].skew())\n",
    "print(\"YearRemodAdd: %f\" % train_df['YearRemodAdd'].skew())\n",
    "print(\"TotalBsmtSF: %f\" % train_df['TotalBsmtSF'].skew())\n",
    "print(\"1stFlrSF: %f\" % train_df['1stFlrSF'].skew())\n",
    "print(\"GrLivArea: %f\" % train_df['GrLivArea'].skew())\n",
    "print(\"FullBath: %f\" % train_df['FullBath'].skew())\n",
    "print(\"TotRmsAbvGrds: %f\" % train_df['TotRmsAbvGrd'].skew())\n",
    "print(\"GarageCars: %f\" % train_df['GarageCars'].skew())\n",
    "print(\"GarageArea: %f\" % train_df['GarageArea'].skew())"
   ]
  },
  {
   "cell_type": "code",
   "execution_count": 50,
   "id": "6a4c9380",
   "metadata": {},
   "outputs": [
    {
     "name": "stdout",
     "output_type": "stream",
     "text": [
      "TotalBsmtSF: -5.154670\n",
      "1stFlrSF: 0.080114\n",
      "GrLivArea: -0.006140\n"
     ]
    }
   ],
   "source": [
    "# apply log transformation\n",
    "train_df['TotalBsmtSF'] = np.log1p(train_df['TotalBsmtSF'])\n",
    "train_df['1stFlrSF'] = np.log1p(train_df['1stFlrSF'])\n",
    "train_df['GrLivArea'] = np.log1p(train_df['GrLivArea'])\n",
    "\n",
    "# check distribution\n",
    "print(\"TotalBsmtSF: %f\" % train_df['TotalBsmtSF'].skew())\n",
    "print(\"1stFlrSF: %f\" % train_df['1stFlrSF'].skew())\n",
    "print(\"GrLivArea: %f\" % train_df['GrLivArea'].skew())"
   ]
  },
  {
   "cell_type": "markdown",
   "id": "e66235e8",
   "metadata": {},
   "source": [
    "Since log transformation did not really help for TotalBsmtSF, I am going to check if outliers may be the culprit."
   ]
  },
  {
   "cell_type": "code",
   "execution_count": 51,
   "id": "6941ae9e",
   "metadata": {},
   "outputs": [
    {
     "name": "stdout",
     "output_type": "stream",
     "text": [
      "Skewness: -5.154670\n"
     ]
    },
    {
     "data": {
      "image/png": "[encoded data removed]",
      "text/plain": [
       "<Figure size 360x360 with 1 Axes>"
      ]
     },
     "metadata": {
      "needs_background": "light"
     },
     "output_type": "display_data"
    }
   ],
   "source": [
    "# skewness of TotalBsmtSF\n",
    "sns.displot(train_df['TotalBsmtSF'], kde=True);\n",
    "print(\"Skewness: %f\" % train_df['TotalBsmtSF'].skew())"
   ]
  },
  {
   "cell_type": "code",
   "execution_count": 52,
   "id": "fdf66458",
   "metadata": {},
   "outputs": [
    {
     "data": {
      "text/plain": [
       "<AxesSubplot:xlabel='TotalBsmtSF', ylabel='SalePrice'>"
      ]
     },
     "execution_count": 52,
     "metadata": {},
     "output_type": "execute_result"
    },
    {
     "data": {
      "image/png": "[encoded data removed]",
      "text/plain": [
       "<Figure size 576x432 with 1 Axes>"
      ]
     },
     "metadata": {
      "needs_background": "light"
     },
     "output_type": "display_data"
    }
   ],
   "source": [
    "# scatterplot of TotalBsmtSF\n",
    "plt.figure(figsize=(8, 6))\n",
    "sns.scatterplot(x='TotalBsmtSF', y='SalePrice', data=train_df)"
   ]
  },
  {
   "cell_type": "code",
   "execution_count": 53,
   "id": "f031d2eb",
   "metadata": {},
   "outputs": [],
   "source": [
    "# drop outliers equaling 0\n",
    "outliers = train_df[(train_df.TotalBsmtSF == 0)].index\n",
    "train_df.drop(outliers, axis=0, inplace=True)"
   ]
  },
  {
   "cell_type": "code",
   "execution_count": 54,
   "id": "4c48041f",
   "metadata": {},
   "outputs": [
    {
     "name": "stdout",
     "output_type": "stream",
     "text": [
      "TotalBsmtSF: -0.272720\n"
     ]
    }
   ],
   "source": [
    "print(\"TotalBsmtSF: %f\" % train_df['TotalBsmtSF'].skew())"
   ]
  },
  {
   "cell_type": "code",
   "execution_count": 55,
   "id": "5d3e40f0",
   "metadata": {},
   "outputs": [
    {
     "data": {
      "text/plain": [
       "(1423, 74)"
      ]
     },
     "execution_count": 55,
     "metadata": {},
     "output_type": "execute_result"
    }
   ],
   "source": [
    "train_df.shape"
   ]
  },
  {
   "cell_type": "markdown",
   "id": "45796e39",
   "metadata": {},
   "source": [
    "### Linear Regression 2"
   ]
  },
  {
   "cell_type": "code",
   "execution_count": 56,
   "id": "f8d581cd",
   "metadata": {},
   "outputs": [],
   "source": [
    "# assign feature columns as a list\n",
    "feature_cols = ['OverallQual', 'YearBuilt', 'YearRemodAdd', 'TotalBsmtSF', '1stFlrSF',\n",
    "       'GrLivArea', 'FullBath', 'TotRmsAbvGrd', 'GarageCars', 'GarageArea']"
   ]
  },
  {
   "cell_type": "code",
   "execution_count": 57,
   "id": "cff4fd9a",
   "metadata": {},
   "outputs": [],
   "source": [
    "# assign X to only include those feature columns\n",
    "X2 = train_df[feature_cols]\n",
    "\n",
    "# assign y to dependent response variable\n",
    "y2 = train_df['SalePrice']"
   ]
  },
  {
   "cell_type": "code",
   "execution_count": 58,
   "id": "309bbe19",
   "metadata": {},
   "outputs": [],
   "source": [
    "# assign data to training and testing sets\n",
    "X2_train, X2_test, y2_train, y2_test = train_test_split(X2, y2, test_size = .3, random_state=42)"
   ]
  },
  {
   "cell_type": "code",
   "execution_count": 59,
   "id": "cc0371fb",
   "metadata": {},
   "outputs": [
    {
     "data": {
      "text/plain": [
       "LinearRegression()"
      ]
     },
     "execution_count": 59,
     "metadata": {},
     "output_type": "execute_result"
    }
   ],
   "source": [
    "# instantiate\n",
    "linreg2 = LinearRegression()\n",
    "\n",
    "# fit data to the linear regression model\n",
    "linreg2.fit(X2_train, y2_train)"
   ]
  },
  {
   "cell_type": "code",
   "execution_count": 60,
   "id": "ea67c7ee",
   "metadata": {},
   "outputs": [
    {
     "name": "stdout",
     "output_type": "stream",
     "text": [
      "Intercept: -1.3039501025999432\n",
      "Coefficients: \n",
      "('OverallQual', 0.08565171847420609)\n",
      "('YearBuilt', 0.001857182053334652)\n",
      "('YearRemodAdd', 0.002420356381292442)\n",
      "('TotalBsmtSF', 0.10621732561830535)\n",
      "('1stFlrSF', 0.08777011797579876)\n",
      "('GrLivArea', 0.39706287306713006)\n",
      "('FullBath', -0.03799951218455025)\n",
      "('TotRmsAbvGrd', 0.006031245945794564)\n",
      "('GarageCars', 0.06161638220547187)\n",
      "('GarageArea', 4.188682467169951e-05)\n"
     ]
    }
   ],
   "source": [
    "# intercept\n",
    "print(f'Intercept: {linreg2.intercept_}')\n",
    "\n",
    "# coefficients of each feature\n",
    "list_features = list(zip(feature_cols, linreg2.coef_))\n",
    "print('Coefficients: ')\n",
    "for list_features in list_features:\n",
    "    print (list_features)"
   ]
  },
  {
   "cell_type": "markdown",
   "id": "139742b5",
   "metadata": {},
   "source": [
    "### Evaluation of model"
   ]
  },
  {
   "cell_type": "code",
   "execution_count": 61,
   "id": "96dbf307",
   "metadata": {},
   "outputs": [],
   "source": [
    "# get predictions\n",
    "y2_pred = linreg2.predict(X2_test)"
   ]
  },
  {
   "cell_type": "code",
   "execution_count": 62,
   "id": "aa51df49",
   "metadata": {},
   "outputs": [
    {
     "name": "stdout",
     "output_type": "stream",
     "text": [
      "Coefficient of Determination: 0.8401847426026792\n",
      "Mean Absolute Error: 0.11523831737681575\n",
      "Mean Squared Error: 0.026256608021692003\n",
      "Root Mean Squared Error: 0.16203890897464104\n"
     ]
    }
   ],
   "source": [
    "# evaluations\n",
    "print('Coefficient of Determination:', linreg2.score(X2_test, y2_test))\n",
    "print('Mean Absolute Error:', mean_absolute_error(y2_test, y2_pred))\n",
    "print('Mean Squared Error:', mean_squared_error(y2_test, y2_pred))\n",
    "print('Root Mean Squared Error:', np.sqrt(mean_squared_error(y2_test, y2_pred)))"
   ]
  },
  {
   "cell_type": "markdown",
   "id": "8d888772",
   "metadata": {},
   "source": [
    "Our accuracy score increased a tiny bit by 0.04"
   ]
  },
  {
   "cell_type": "markdown",
   "id": "19e20954",
   "metadata": {},
   "source": [
    "# Experiment 3"
   ]
  },
  {
   "cell_type": "markdown",
   "id": "0dec7842",
   "metadata": {},
   "source": [
    "I will now try random forest regression. We do not need to pre-process in this experiment as we will be using the data that we've pre-processed in experiments 1 and 2."
   ]
  },
  {
   "cell_type": "markdown",
   "id": "0833fc4f",
   "metadata": {},
   "source": [
    "## Random Forest"
   ]
  },
  {
   "cell_type": "code",
   "execution_count": 63,
   "id": "7febd38a",
   "metadata": {},
   "outputs": [],
   "source": [
    "from sklearn.ensemble import  RandomForestRegressor"
   ]
  },
  {
   "cell_type": "code",
   "execution_count": 64,
   "id": "0b8a2c41",
   "metadata": {},
   "outputs": [],
   "source": [
    "# assign X to only include those feature columns\n",
    "X3 = train_df[feature_cols]\n",
    "\n",
    "# assign y to dependent response variable\n",
    "y3 = train_df['SalePrice']"
   ]
  },
  {
   "cell_type": "code",
   "execution_count": 65,
   "id": "8d54dbc1",
   "metadata": {},
   "outputs": [],
   "source": [
    "# assign data to training and testing sets\n",
    "X3_train, X3_test, y3_train, y3_test = train_test_split(X3, y3, test_size=0.3, random_state=42) "
   ]
  },
  {
   "cell_type": "code",
   "execution_count": 66,
   "id": "0c4d861b",
   "metadata": {},
   "outputs": [
    {
     "data": {
      "text/plain": [
       "RandomForestRegressor()"
      ]
     },
     "execution_count": 66,
     "metadata": {},
     "output_type": "execute_result"
    }
   ],
   "source": [
    "# create an object of the RandomForestRegressor\n",
    "ranfor = RandomForestRegressor(n_estimators=100)\n",
    "\n",
    "# fit the model with the training data\n",
    "ranfor.fit(X3_train, y3_train)"
   ]
  },
  {
   "cell_type": "markdown",
   "id": "bc376dbb",
   "metadata": {},
   "source": [
    "### Evaluation of Random Forest"
   ]
  },
  {
   "cell_type": "code",
   "execution_count": 67,
   "id": "dc35fe45",
   "metadata": {},
   "outputs": [],
   "source": [
    "# predict the target\n",
    "y3_pred = ranfor.predict(X3_test)"
   ]
  },
  {
   "cell_type": "code",
   "execution_count": 68,
   "id": "1f072801",
   "metadata": {},
   "outputs": [
    {
     "name": "stdout",
     "output_type": "stream",
     "text": [
      "Coefficient of Determination: 0.8354230883442374\n",
      "Mean Absolute Error: 0.11432475269261762\n",
      "Mean Squared Error: 0.027038916866509614\n",
      "Root Mean Squared Error: 0.1644351448641975\n"
     ]
    }
   ],
   "source": [
    "# evaluations\n",
    "print('Coefficient of Determination:', ranfor.score(X3_test, y3_test))\n",
    "print('Mean Absolute Error:', mean_absolute_error(y3_test, y3_pred))\n",
    "print('Mean Squared Error:', mean_squared_error(y3_test, y3_pred))\n",
    "print('Root Mean Squared Error:', np.sqrt(mean_squared_error(y3_test, y3_pred)))"
   ]
  },
  {
   "cell_type": "code",
   "execution_count": null,
   "id": "c9495960",
   "metadata": {},
   "outputs": [],
   "source": []
  }
 ],
 "metadata": {
  "kernelspec": {
   "display_name": "myenv",
   "language": "python",
   "name": "myenv"
  },
  "language_info": {
   "codemirror_mode": {
    "name": "ipython",
    "version": 3
   },
   "file_extension": ".py",
   "mimetype": "text/x-python",
   "name": "python",
   "nbconvert_exporter": "python",
   "pygments_lexer": "ipython3",
   "version": "3.9.7"
  }
 },
 "nbformat": 4,
 "nbformat_minor": 5
}
